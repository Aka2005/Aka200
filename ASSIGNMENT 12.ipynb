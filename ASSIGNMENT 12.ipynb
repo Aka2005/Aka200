{
 "cells": [
  {
   "cell_type": "code",
   "execution_count": 1,
   "id": "d1201b2c",
   "metadata": {},
   "outputs": [
    {
     "name": "stdout",
     "output_type": "stream",
     "text": [
      "Reversed Number: 4321\n"
     ]
    }
   ],
   "source": [
    "#Q1. Write a python script to reverse a number\n",
    "\n",
    "num = 1234\n",
    "reversed_num = 0\n",
    "\n",
    "while num != 0:\n",
    "    digit = num % 10\n",
    "    reversed_num = reversed_num * 10 + digit\n",
    "    num //= 10\n",
    "\n",
    "print(\"Reversed Number: \" + str(reversed_num))"
   ]
  },
  {
   "cell_type": "code",
   "execution_count": 3,
   "id": "3b672e7d",
   "metadata": {},
   "outputs": [
    {
     "name": "stdout",
     "output_type": "stream",
     "text": [
      "Enter The Number2\n",
      "2 is a Prime number\n"
     ]
    }
   ],
   "source": [
    "#Q2.Write a python script to check wheter a given number is prime or not\n",
    "\n",
    "\n",
    "number = int(input(\"Enter The Number\"))\n",
    "\n",
    "if number > 1:\n",
    "    for i in range(2,int(number/2)+1):\n",
    "        if (number % i == 0):\n",
    "            print(number, \"is not a Prime Number\")\n",
    "            break\n",
    "    else:\n",
    "        print(number,\"is a Prime number\")\n",
    "\n",
    "else:\n",
    "    print(number,\"is not a Prime number\")"
   ]
  },
  {
   "cell_type": "code",
   "execution_count": 7,
   "id": "8cb63cbf",
   "metadata": {},
   "outputs": [
    {
     "name": "stdout",
     "output_type": "stream",
     "text": [
      " 2   3   5   7   11   13   17   19   23   29   31   37   41   43   47   53   59   61   67   71   73   79   83   89   97  "
     ]
    }
   ],
   "source": [
    "#Q3. Write a python script to print all prime number under 100\n",
    "\n",
    "for Number in range (1, 101):\n",
    "    count = 0\n",
    "    for i in range(2, (Number//2 + 1)):\n",
    "        if(Number % i == 0):\n",
    "            count = count + 1\n",
    "            break\n",
    "\n",
    "    if (count == 0 and Number != 1):\n",
    "        print(\" %d\" %Number, end = '  ')\n",
    "  \n"
   ]
  },
  {
   "cell_type": "code",
   "execution_count": 35,
   "id": "e9e98040",
   "metadata": {},
   "outputs": [],
   "source": [
    "#Q4. Write a python script to find next prime number of a given number\n",
    "\n",
    "\n",
    "def prime(n):\n",
    "    np=[]\n",
    "    isprime=[]\n",
    "    for i in range (n+1,n+200):\n",
    "        np.append(i)\n",
    "    for j in np:\n",
    "        val_is_prime = True\n",
    "        for x in range(2,j-1):\n",
    "            if j % x == 0:\n",
    "                val_is_prime = False\n",
    "                break\n",
    "        if val_is_prime:\n",
    "            isprime.append(j)\n",
    "    return min(isprime)"
   ]
  },
  {
   "cell_type": "code",
   "execution_count": 36,
   "id": "252dff06",
   "metadata": {},
   "outputs": [
    {
     "name": "stdout",
     "output_type": "stream",
     "text": [
      "Enter range:50\n",
      "Prime numbers: 1 2 3 5 7 11 13 17 19 23 29 31 37 41 43 47 "
     ]
    }
   ],
   "source": [
    "#Q5.Write a python script to print first n prime numbers\n",
    "\n",
    "\n",
    "numr=int(input(\"Enter range:\"))\n",
    "\n",
    "print(\"Prime numbers:\",end=' ')\n",
    "\n",
    "for n in range(1,numr):\n",
    "\n",
    "    for i in range(2,n):\n",
    "\n",
    "        if(n%i==0):\n",
    "\n",
    "            break\n",
    "\n",
    "    else:\n",
    "\n",
    "        print(n,end=' ')    \n"
   ]
  },
  {
   "cell_type": "code",
   "execution_count": 37,
   "id": "2e5a7591",
   "metadata": {},
   "outputs": [
    {
     "name": "stdout",
     "output_type": "stream",
     "text": [
      "HCF of 50 and 100 is: 50\n"
     ]
    }
   ],
   "source": [
    "#Q6.Write a python script to calculate HCF of two numbers\n",
    "\n",
    "\n",
    "x = 50\n",
    "y = 100\n",
    "if x > y:\n",
    "  x, y = y, x\n",
    "for i in range(1,x+1):\n",
    "  if x%i == 0 and y%i == 0:\n",
    "    hcf = i\n",
    "\n",
    "print(\"HCF of\", x, \"and\", y, \"is:\", hcf)\n"
   ]
  },
  {
   "cell_type": "code",
   "execution_count": 38,
   "id": "7ecc99b3",
   "metadata": {},
   "outputs": [
    {
     "name": "stdout",
     "output_type": "stream",
     "text": [
      "Enter the first number:10\n",
      "Enter the second number:20\n",
      "LCM is: 20\n"
     ]
    }
   ],
   "source": [
    "#Q7. Write a python script to find LCM of two numbers\n",
    "\n",
    "a=int(input(\"Enter the first number:\"))\n",
    "b=int(input(\"Enter the second number:\"))\n",
    "if(a>b):\n",
    "    min1=a\n",
    "else:\n",
    "    min1=b\n",
    "while(1):\n",
    "    if(min1%a==0 and min1%b==0):\n",
    "        print(\"LCM is:\",min1)\n",
    "        break\n",
    "    min1=min1+1\n",
    "\n"
   ]
  },
  {
   "cell_type": "code",
   "execution_count": 39,
   "id": "d39b46dd",
   "metadata": {},
   "outputs": [
    {
     "name": "stdout",
     "output_type": "stream",
     "text": [
      "Fibonacci Series: 0 1 1 2 3 5 8 13 21 34 \n"
     ]
    }
   ],
   "source": [
    "#Q8. Write a python script to print n terms of a fibonacci series\n",
    "\n",
    "num = 10\n",
    "n1, n2 = 0, 1\n",
    "print(\"Fibonacci Series:\", n1, n2, end=\" \")\n",
    "for i in range(2, num):\n",
    "    n3 = n1 + n2\n",
    "    n1 = n2\n",
    "    n2 = n3\n",
    "    print(n3, end=\" \")\n",
    "\n",
    "print()\n"
   ]
  },
  {
   "cell_type": "code",
   "execution_count": null,
   "id": "3bd748ce",
   "metadata": {},
   "outputs": [],
   "source": []
  }
 ],
 "metadata": {
  "kernelspec": {
   "display_name": "Python 3 (ipykernel)",
   "language": "python",
   "name": "python3"
  },
  "language_info": {
   "codemirror_mode": {
    "name": "ipython",
    "version": 3
   },
   "file_extension": ".py",
   "mimetype": "text/x-python",
   "name": "python",
   "nbconvert_exporter": "python",
   "pygments_lexer": "ipython3",
   "version": "3.9.12"
  }
 },
 "nbformat": 4,
 "nbformat_minor": 5
}
