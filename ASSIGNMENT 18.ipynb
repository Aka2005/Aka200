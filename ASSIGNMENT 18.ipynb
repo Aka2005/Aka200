{
 "cells": [
  {
   "cell_type": "code",
   "execution_count": 2,
   "id": "ffd8170f",
   "metadata": {},
   "outputs": [
    {
     "name": "stdout",
     "output_type": "stream",
     "text": [
      "{'name': 'Jack', 'age': 26, 'gender': 'male'}\n"
     ]
    }
   ],
   "source": [
    "#Q1.Write a python program to create and print a dictionary which stores your infomation. (name,age,gender)\n",
    "\n",
    "\n",
    "\n",
    "my_dict = {'name': 'Jack', 'age': 26 ,'gender':'male'}\n",
    "\n",
    "\n",
    "my_dict['age'] = 26\n",
    "\n",
    "\n",
    "print(my_dict)"
   ]
  },
  {
   "cell_type": "code",
   "execution_count": 3,
   "id": "08a7edbb",
   "metadata": {},
   "outputs": [
    {
     "name": "stdout",
     "output_type": "stream",
     "text": [
      "Ajay\n"
     ]
    }
   ],
   "source": [
    "#Q2. Write a python program to access the items of a dictionary by refering to its key name.\n",
    "\n",
    "d1 = {102:'Rahul',105:'Payal',106:'Ajay'}\n",
    "print(d1[106])"
   ]
  },
  {
   "cell_type": "code",
   "execution_count": 4,
   "id": "f6c78ab6",
   "metadata": {},
   "outputs": [
    {
     "data": {
      "text/plain": [
       "['java', 'python', 'statistics', 'cpp']"
      ]
     },
     "execution_count": 4,
     "metadata": {},
     "output_type": "execute_result"
    }
   ],
   "source": [
    "#Q3. Write a python program to get a list of the value from a dictionary\n",
    "\n",
    "data = {'manoja': 'java', 'tripura': 'python',\n",
    "        'manoj': 'statistics', 'manoji': 'cpp'}\n",
    " \n",
    "\n",
    "list(data.values())\n"
   ]
  },
  {
   "cell_type": "code",
   "execution_count": 5,
   "id": "3b0ef32f",
   "metadata": {},
   "outputs": [
    {
     "name": "stdout",
     "output_type": "stream",
     "text": [
      "initial dictionary- {'hari': 1, 'dita': 2}\n",
      "dictionary after modification- {'hari': 1, 'dita': 4}\n"
     ]
    }
   ],
   "source": [
    "#Q5.Write a python program to change the value of a specific item by refering to its key name\n",
    "\n",
    "\n",
    "\n",
    "\n",
    "dict = {'hari': 1, 'dita': 2}\n",
    "  \n",
    "\n",
    "print(\"initial dictionary-\", dict)\n",
    "  \n",
    "\n",
    "dict['dita'] = 4\n",
    "  \n",
    "\n",
    "print(\"dictionary after modification-\", dict)"
   ]
  },
  {
   "cell_type": "code",
   "execution_count": 10,
   "id": "b59e9dc0",
   "metadata": {},
   "outputs": [
    {
     "name": "stdout",
     "output_type": "stream",
     "text": [
      "{'Sam', 'Aadi', 'John', 'Ritika'}\n"
     ]
    }
   ],
   "source": [
    "#Q5.Write a python program to print all key names in the dicitonary one by one\n",
    "\n",
    "student = {   'Ritika', \n",
    "                    'Sam',  \n",
    "                    'John',  \n",
    "                    'Aadi', }\n",
    "\n",
    "\n",
    "print(student)\n",
    "\n"
   ]
  },
  {
   "cell_type": "code",
   "execution_count": 18,
   "id": "03335be6",
   "metadata": {},
   "outputs": [
    {
     "name": "stdout",
     "output_type": "stream",
     "text": [
      "{'name': 'Luna', 'age': '24', 'sex': 'Female', 'married': 'No'}\n"
     ]
    }
   ],
   "source": [
    "#Q6. Write a python program to create a dicitonary that contains three dictionaries.(nested)\n",
    "\n",
    "people = {1: {'name': 'John', 'age': '27', 'sex': 'Male'},\n",
    "          2: {'name': 'Marie', 'age': '22', 'sex': 'Female'}}\n",
    "\n",
    "people[3] = {}\n",
    "\n",
    "people[3]['name'] = 'Luna'\n",
    "people[3]['age'] = '24'\n",
    "people[3]['sex'] = 'Female'\n",
    "people[3]['married'] = 'No'\n",
    "\n",
    "print(people[3])"
   ]
  },
  {
   "cell_type": "code",
   "execution_count": 19,
   "id": "07545d35",
   "metadata": {},
   "outputs": [
    {
     "name": "stdout",
     "output_type": "stream",
     "text": [
      "{1: 'a', 2: 'c', 4: 'd'}\n"
     ]
    }
   ],
   "source": [
    "#Q7.  Write a python program to merge two python dictionaries into one dictionary\n",
    "\n",
    "dict_1 = {1: 'a', 2: 'b'}\n",
    "dict_2 = {2: 'c', 4: 'd'}\n",
    "\n",
    "print(dict_1 | dict_2)\n"
   ]
  },
  {
   "cell_type": "code",
   "execution_count": 20,
   "id": "ac74c8f7",
   "metadata": {},
   "outputs": [
    {
     "name": "stdout",
     "output_type": "stream",
     "text": [
      "{1: 10, 2: 20, 3: 30, 4: 40, 5: 50, 6: 60}\n"
     ]
    }
   ],
   "source": [
    "#Q8. Write a python program to create three dictionary then create one dictionary that will contain the otherthree dictionary\n",
    "\n",
    "\n",
    "\n",
    "dic1={1:10, 2:20}\n",
    "dic2={3:30, 4:40}\n",
    "dic3={5:50,6:60}\n",
    "dic4 = {}\n",
    "for d in (dic1, dic2, dic3): dic4.update(d)\n",
    "print(dic4)"
   ]
  },
  {
   "cell_type": "code",
   "execution_count": 22,
   "id": "55f629b5",
   "metadata": {},
   "outputs": [
    {
     "name": "stdout",
     "output_type": "stream",
     "text": [
      "Java\n",
      "66\n"
     ]
    }
   ],
   "source": [
    "#Q9 .Write a python program to get the key of lowest value from the dictionary sample_dict = {}\n",
    "\n",
    "dictionary = {\"C\": 92, \"Java\": 66, \"Python\": 85}\n",
    " \n",
    "\n",
    "min_key = min(dictionary, key=dictionary.get)\n",
    " \n",
    "print(min_key)\n",
    "\n",
    " \n",
    "print(dictionary.get(min_key))\n",
    "\n",
    " \n",
    "\n"
   ]
  },
  {
   "cell_type": "code",
   "execution_count": null,
   "id": "5268471a",
   "metadata": {},
   "outputs": [],
   "source": []
  }
 ],
 "metadata": {
  "kernelspec": {
   "display_name": "Python 3 (ipykernel)",
   "language": "python",
   "name": "python3"
  },
  "language_info": {
   "codemirror_mode": {
    "name": "ipython",
    "version": 3
   },
   "file_extension": ".py",
   "mimetype": "text/x-python",
   "name": "python",
   "nbconvert_exporter": "python",
   "pygments_lexer": "ipython3",
   "version": "3.9.12"
  }
 },
 "nbformat": 4,
 "nbformat_minor": 5
}
