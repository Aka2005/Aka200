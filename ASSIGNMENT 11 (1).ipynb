{
 "cells": [
  {
   "cell_type": "code",
   "execution_count": 1,
   "id": "6583b0f7",
   "metadata": {},
   "outputs": [
    {
     "name": "stdout",
     "output_type": "stream",
     "text": [
      "Enter a number: 5\n",
      "The sum of first n natural numbers is 15\n"
     ]
    }
   ],
   "source": [
    "#Q1. Write a python script to calculate sum of first n natural numbers\n",
    "\n",
    "n=int(input(\"Enter a number: \"))\n",
    "sum1 = 0\n",
    "while(n > 0):\n",
    "    sum1=sum1+n\n",
    "    n=n-1\n",
    "print(\"The sum of first n natural numbers is\",sum1)"
   ]
  },
  {
   "cell_type": "code",
   "execution_count": 2,
   "id": "4fb56124",
   "metadata": {},
   "outputs": [
    {
     "name": "stdout",
     "output_type": "stream",
     "text": [
      "Enter value of N: 10\n",
      "Sum of squares =  385\n"
     ]
    }
   ],
   "source": [
    "#Q2.Write a python script to calculate sum of squre of first n natural numbers\n",
    "\n",
    "N = int(input(\"Enter value of N: \"))\n",
    "\n",
    "sumVal = 0\n",
    "for i in range(1, N+1):\n",
    "    sumVal += (i*i)\n",
    "\n",
    "print(\"Sum of squares = \", sumVal)\n"
   ]
  },
  {
   "cell_type": "code",
   "execution_count": 3,
   "id": "16025168",
   "metadata": {},
   "outputs": [
    {
     "name": "stdout",
     "output_type": "stream",
     "text": [
      "Enter value of N: 9\n",
      "Sum of cubes =  2025\n"
     ]
    }
   ],
   "source": [
    "#Q3. Write a python script to calculate sum of cubes of first n natural numbers\n",
    "\n",
    "N = int(input(\"Enter value of N: \"))\n",
    "\n",
    "sumVal = 0\n",
    "for i in range(1, N+1):\n",
    "    sumVal += (i*i*i)\n",
    "\n",
    "print(\"Sum of cubes = \", sumVal)"
   ]
  },
  {
   "cell_type": "code",
   "execution_count": 4,
   "id": "f55c546b",
   "metadata": {},
   "outputs": [
    {
     "name": "stdout",
     "output_type": "stream",
     "text": [
      "Print sum of odd numbers till : 10\n",
      "\n",
      "Sum of odd numbers from 1 to 10 is : 25\n"
     ]
    }
   ],
   "source": [
    "\n",
    "#Q4. Write a python script  to calculate sum of first n odd natural numbee\n",
    "\n",
    "num = int(input(\"Print sum of odd numbers till : \"))\n",
    "sum = 0;\n",
    "\n",
    "for i in range(1, num + 1):\n",
    "\n",
    "    #Check for odd or not.\n",
    "    if(not (i % 2) == 0):\n",
    "        sum += i;\n",
    "\n",
    "print(\"\\nSum of odd numbers from 1 to\", num, \"is :\", sum)"
   ]
  },
  {
   "cell_type": "code",
   "execution_count": 5,
   "id": "049a0a6a",
   "metadata": {},
   "outputs": [
    {
     "name": "stdout",
     "output_type": "stream",
     "text": [
      "Print sum of even numbers till : 10\n",
      "\n",
      "Sum of even numbers from 1 to 10 is : 30\n"
     ]
    }
   ],
   "source": [
    "#Q5.Write a python script to calculate sum of first n even natural number\n",
    "\n",
    "num = int(input(\"Print sum of even numbers till : \"))\n",
    "\n",
    "total = 0\n",
    "\n",
    "for i in range(1, num + 1):\n",
    "\n",
    "    # Check for even or not.\n",
    "    if((i % 2) == 0):\n",
    "        total = total + i\n",
    "\n",
    "print(\"\\nSum of even numbers from 1 to\", num, \"is :\", total)\n",
    "\n"
   ]
  },
  {
   "cell_type": "code",
   "execution_count": 7,
   "id": "f1fdaabc",
   "metadata": {},
   "outputs": [
    {
     "name": "stdout",
     "output_type": "stream",
     "text": [
      " Please enter any Number : 6\n",
      "The factorial of 6  = 720\n"
     ]
    }
   ],
   "source": [
    "#Q6. Write a python script to calculate factorial of a given number\n",
    "\n",
    "number = int(input(\" Please enter any Number : \"))\n",
    "fact = 1\n",
    "\n",
    "for i in range(1, number + 1):\n",
    "    fact = fact * i\n",
    "print(\"The factorial of %d  = %d\" %(number, fact))"
   ]
  },
  {
   "cell_type": "code",
   "execution_count": 8,
   "id": "bfd6ec15",
   "metadata": {},
   "outputs": [
    {
     "name": "stdout",
     "output_type": "stream",
     "text": [
      "Enter number:12\n",
      "The number of digits in the number are: 2\n"
     ]
    }
   ],
   "source": [
    "#Q7. Write a python script to count digit in a given number\n",
    "\n",
    "n=int(input(\"Enter number:\"))\n",
    "count=0\n",
    "while(n>0):\n",
    "    count=count+1\n",
    "    n=n//10\n",
    "print(\"The number of digits in the number are:\",count)"
   ]
  },
  {
   "cell_type": "code",
   "execution_count": 9,
   "id": "ab2e9fba",
   "metadata": {},
   "outputs": [
    {
     "name": "stdout",
     "output_type": "stream",
     "text": [
      "15\n"
     ]
    }
   ],
   "source": [
    "#Q8.Write a python script to calculate sum  of digit of a given number\n",
    "\n",
    "def getSum(n):\n",
    "    \n",
    "    sum = 0\n",
    "    for digit in str(n): \n",
    "      sum += int(digit)      \n",
    "    return sum\n",
    "   \n",
    "n = 12345\n",
    "print(getSum(n))"
   ]
  },
  {
   "cell_type": "code",
   "execution_count": 10,
   "id": "83578fb0",
   "metadata": {},
   "outputs": [
    {
     "name": "stdout",
     "output_type": "stream",
     "text": [
      "Enter a number: 12\n",
      "Binary Equivalent is: \n",
      "1 1 0 0 "
     ]
    }
   ],
   "source": [
    "#Q9.Write a python script to print binary equivalent of a given decimial number(do not use bin()method)\n",
    "\n",
    "n=int(input(\"Enter a number: \"))\n",
    "a=[]\n",
    "while(n>0):\n",
    "    dig=n%2\n",
    "    a.append(dig)\n",
    "    n=n//2\n",
    "a.reverse()\n",
    "print(\"Binary Equivalent is: \")\n",
    "for i in a:\n",
    "    print(i,end=\" \")"
   ]
  },
  {
   "cell_type": "code",
   "execution_count": 11,
   "id": "1e89296d",
   "metadata": {},
   "outputs": [
    {
     "name": "stdout",
     "output_type": "stream",
     "text": [
      "Enter the Decimal Number: \n",
      "15\n",
      "\n",
      "Equivalent Octal Value is: \n",
      "17\n"
     ]
    }
   ],
   "source": [
    "#Q10 . Write a python script to print the octal equivlent to a given number decimal number. (do not use oct()method)\n",
    "\n",
    "\n",
    "print(\"Enter the Decimal Number: \")\n",
    "decnum = int(input())\n",
    "\n",
    "i = 0\n",
    "octnum = []\n",
    "while decnum!=0:\n",
    "    rem = decnum%8\n",
    "    octnum.insert(i, rem)\n",
    "    i = i+1\n",
    "    decnum = int(decnum/8)\n",
    "\n",
    "print(\"\\nEquivalent Octal Value is: \")\n",
    "i = i-1\n",
    "while i>=0:\n",
    "    print(octnum[i], end=\"\")\n",
    "    i = i-1\n",
    "print()"
   ]
  },
  {
   "cell_type": "code",
   "execution_count": null,
   "id": "688a882b",
   "metadata": {},
   "outputs": [],
   "source": []
  }
 ],
 "metadata": {
  "kernelspec": {
   "display_name": "Python 3 (ipykernel)",
   "language": "python",
   "name": "python3"
  },
  "language_info": {
   "codemirror_mode": {
    "name": "ipython",
    "version": 3
   },
   "file_extension": ".py",
   "mimetype": "text/x-python",
   "name": "python",
   "nbconvert_exporter": "python",
   "pygments_lexer": "ipython3",
   "version": "3.9.12"
  }
 },
 "nbformat": 4,
 "nbformat_minor": 5
}
