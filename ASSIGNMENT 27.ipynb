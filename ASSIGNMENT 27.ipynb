{
 "cells": [
  {
   "cell_type": "code",
   "execution_count": 5,
   "id": "45c190fc",
   "metadata": {},
   "outputs": [
    {
     "ename": "ZeroDivisionError",
     "evalue": "division by zero",
     "output_type": "error",
     "traceback": [
      "\u001b[1;31m---------------------------------------------------------------------------\u001b[0m",
      "\u001b[1;31mZeroDivisionError\u001b[0m                         Traceback (most recent call last)",
      "Input \u001b[1;32mIn [5]\u001b[0m, in \u001b[0;36m<cell line: 3>\u001b[1;34m()\u001b[0m\n\u001b[0;32m      1\u001b[0m \u001b[38;5;66;03m#Q1. Write a python script to create a arthmatic error\u001b[39;00m\n\u001b[1;32m----> 3\u001b[0m arithmetic \u001b[38;5;241m=\u001b[39m \u001b[38;5;241;43m5\u001b[39;49m\u001b[38;5;241;43m/\u001b[39;49m\u001b[38;5;241;43m0\u001b[39;49m\n\u001b[0;32m      4\u001b[0m \u001b[38;5;28mprint\u001b[39m(arithmetic)\n",
      "\u001b[1;31mZeroDivisionError\u001b[0m: division by zero"
     ]
    }
   ],
   "source": [
    "#Q1. Write a python script to create a arthmatic error\n",
    "\n",
    "arithmetic = 5/0\n",
    "print(arithmetic)\n"
   ]
  },
  {
   "cell_type": "code",
   "execution_count": 6,
   "id": "bf850d46",
   "metadata": {},
   "outputs": [
    {
     "ename": "ValueError",
     "evalue": "invalid literal for int() with base 10: 'Hello'",
     "output_type": "error",
     "traceback": [
      "\u001b[1;31m---------------------------------------------------------------------------\u001b[0m",
      "\u001b[1;31mValueError\u001b[0m                                Traceback (most recent call last)",
      "Input \u001b[1;32mIn [6]\u001b[0m, in \u001b[0;36m<cell line: 5>\u001b[1;34m()\u001b[0m\n\u001b[0;32m      1\u001b[0m \u001b[38;5;66;03m#Q2.Write a python script to create a value error\u001b[39;00m\n\u001b[0;32m      3\u001b[0m number1 \u001b[38;5;241m=\u001b[39m \u001b[38;5;241m100\u001b[39m\n\u001b[1;32m----> 5\u001b[0m number2 \u001b[38;5;241m=\u001b[39m \u001b[38;5;28;43mint\u001b[39;49m\u001b[43m(\u001b[49m\u001b[38;5;124;43m'\u001b[39;49m\u001b[38;5;124;43mHello\u001b[39;49m\u001b[38;5;124;43m'\u001b[39;49m\u001b[43m)\u001b[49m\n\u001b[0;32m      7\u001b[0m \u001b[38;5;28mprint\u001b[39m(number1 \u001b[38;5;241m+\u001b[39m number2)\n",
      "\u001b[1;31mValueError\u001b[0m: invalid literal for int() with base 10: 'Hello'"
     ]
    }
   ],
   "source": [
    "#Q2.Write a python script to create a value error\n",
    "\n",
    "number1 = 100\n",
    "\n",
    "number2 = int('Hello')\n",
    "\n",
    "print(number1 + number2)\n"
   ]
  },
  {
   "cell_type": "code",
   "execution_count": 10,
   "id": "15c84190",
   "metadata": {},
   "outputs": [
    {
     "name": "stdout",
     "output_type": "stream",
     "text": [
      "You have just made an Arithmetic error\n"
     ]
    }
   ],
   "source": [
    "#Q3.Write a python script to handle the arthmatic error\n",
    "\n",
    "try:\n",
    "  arithmetic = 5/0\n",
    "  print(arithmetic)\n",
    "except ArithmeticError:\n",
    "  print('You have just made an Arithmetic error')\n",
    "\n"
   ]
  },
  {
   "cell_type": "code",
   "execution_count": 11,
   "id": "e40b6419",
   "metadata": {},
   "outputs": [
    {
     "name": "stdout",
     "output_type": "stream",
     "text": [
      "Please enter a positive number:\n",
      "2\n",
      "Square Root of 2 is 1.4142135623730951\n"
     ]
    }
   ],
   "source": [
    "#Q4.Write a python script to handle the value error\n",
    "\n",
    "\n",
    "import math\n",
    "\n",
    "x = int(input('Please enter a positive number:\\n'))\n",
    "\n",
    "try:\n",
    "    print(f'Square Root of {x} is {math.sqrt(x)}')\n",
    "except ValueError as ve:\n",
    "    print(f'You entered {x}, which is not a positive number.')\n"
   ]
  },
  {
   "cell_type": "code",
   "execution_count": 12,
   "id": "2427ad3e",
   "metadata": {},
   "outputs": [
    {
     "name": "stdout",
     "output_type": "stream",
     "text": [
      "a\n",
      "4\n",
      "can only concatenate str (not \"int\") to str\n"
     ]
    }
   ],
   "source": [
    "#Q5.Write a python script to handle multiple exception in one try\n",
    "\n",
    "string = input()\n",
    "\n",
    "try:\n",
    "    num = int(input())\n",
    "    print(string+num)\n",
    "except (TypeError, ValueError) as e:\n",
    "    print(e)"
   ]
  },
  {
   "cell_type": "code",
   "execution_count": 13,
   "id": "b644e2f2",
   "metadata": {},
   "outputs": [
    {
     "ename": "ValueError",
     "evalue": "ValueError exception thrown",
     "output_type": "error",
     "traceback": [
      "\u001b[1;31m---------------------------------------------------------------------------\u001b[0m",
      "\u001b[1;31mValueError\u001b[0m                                Traceback (most recent call last)",
      "Input \u001b[1;32mIn [13]\u001b[0m, in \u001b[0;36m<cell line: 3>\u001b[1;34m()\u001b[0m\n\u001b[0;32m      3\u001b[0m \u001b[38;5;28;01mtry\u001b[39;00m:\n\u001b[1;32m----> 4\u001b[0m     num \u001b[38;5;241m=\u001b[39m \u001b[38;5;28;43mint\u001b[39;49m\u001b[43m(\u001b[49m\u001b[38;5;124;43m\"\u001b[39;49m\u001b[38;5;124;43mstring\u001b[39;49m\u001b[38;5;124;43m\"\u001b[39;49m\u001b[43m)\u001b[49m\n\u001b[0;32m      5\u001b[0m \u001b[38;5;28;01mexcept\u001b[39;00m \u001b[38;5;167;01mValueError\u001b[39;00m:\n",
      "\u001b[1;31mValueError\u001b[0m: invalid literal for int() with base 10: 'string'",
      "\nDuring handling of the above exception, another exception occurred:\n",
      "\u001b[1;31mValueError\u001b[0m                                Traceback (most recent call last)",
      "Input \u001b[1;32mIn [13]\u001b[0m, in \u001b[0;36m<cell line: 3>\u001b[1;34m()\u001b[0m\n\u001b[0;32m      4\u001b[0m     num \u001b[38;5;241m=\u001b[39m \u001b[38;5;28mint\u001b[39m(\u001b[38;5;124m\"\u001b[39m\u001b[38;5;124mstring\u001b[39m\u001b[38;5;124m\"\u001b[39m)\n\u001b[0;32m      5\u001b[0m \u001b[38;5;28;01mexcept\u001b[39;00m \u001b[38;5;167;01mValueError\u001b[39;00m:\n\u001b[1;32m----> 6\u001b[0m     \u001b[38;5;28;01mraise\u001b[39;00m \u001b[38;5;167;01mValueError\u001b[39;00m(\u001b[38;5;124m\"\u001b[39m\u001b[38;5;124mValueError exception thrown\u001b[39m\u001b[38;5;124m\"\u001b[39m)\n",
      "\u001b[1;31mValueError\u001b[0m: ValueError exception thrown"
     ]
    }
   ],
   "source": [
    "#Q6.Write a python script to raise a value error\n",
    "\n",
    "try:\n",
    "    num = int(\"string\")\n",
    "except ValueError:\n",
    "    raise ValueError(\"ValueError exception thrown\")"
   ]
  },
  {
   "cell_type": "code",
   "execution_count": 14,
   "id": "671524ef",
   "metadata": {},
   "outputs": [
    {
     "name": "stdout",
     "output_type": "stream",
     "text": [
      "outer try block\n",
      "Inner try block\n",
      "Inner finally block\n",
      "outer finally block\n"
     ]
    }
   ],
   "source": [
    "#Q7.Write a python script  to implemented a nested try to except block\n",
    "\n",
    "\n",
    "try:\n",
    "   print(\"outer try block\")\n",
    "   try:\n",
    "       print(\"Inner try block\")\n",
    "   except ZeroDivisionError:\n",
    "       print(\"Inner except block\")\n",
    "   finally:\n",
    "       print(\"Inner finally block\")\n",
    "except:\n",
    "   print(\"outer except block\")\n",
    "finally:\n",
    "   print(\"outer finally block\")"
   ]
  },
  {
   "cell_type": "code",
   "execution_count": 15,
   "id": "6fc18c63",
   "metadata": {},
   "outputs": [
    {
     "ename": "IndentationError",
     "evalue": "expected an indented block (1745716672.py, line 5)",
     "output_type": "error",
     "traceback": [
      "\u001b[1;36m  Input \u001b[1;32mIn [15]\u001b[1;36m\u001b[0m\n\u001b[1;33m    except:\u001b[0m\n\u001b[1;37m    ^\u001b[0m\n\u001b[1;31mIndentationError\u001b[0m\u001b[1;31m:\u001b[0m expected an indented block\n"
     ]
    }
   ],
   "source": [
    "#Q8.Write a python script to add a finally block for the above script\n",
    "\n",
    "try:\n",
    "    # Do something\n",
    "except:\n",
    "    # Do something\n",
    "finally:\n",
    "    # Do something"
   ]
  },
  {
   "cell_type": "code",
   "execution_count": 16,
   "id": "26a3f4f6",
   "metadata": {},
   "outputs": [
    {
     "name": "stdout",
     "output_type": "stream",
     "text": [
      "Yeah ! Your answer is : 1\n"
     ]
    }
   ],
   "source": [
    "#Q9. Write a python script to implement try except and else block for division\n",
    "\n",
    "def divide(x, y):\n",
    "    try:\n",
    "        \n",
    "        result = x // y\n",
    "        print(\"Yeah ! Your answer is :\", result)\n",
    "    except ZeroDivisionError:\n",
    "        print(\"Sorry ! You are dividing by zero \")\n",
    " \n",
    "\n",
    "divide(3, 2)\n"
   ]
  },
  {
   "cell_type": "code",
   "execution_count": 17,
   "id": "234a8629",
   "metadata": {},
   "outputs": [
    {
     "name": "stdout",
     "output_type": "stream",
     "text": [
      "Enter your first number: 23\n",
      "Enter your second number: 21\n",
      "23 + 21 = \n",
      "44\n",
      "23 - 21 = \n",
      "2\n",
      "23 * 21 = \n",
      "483\n",
      "23 / 21 = \n",
      "1.0952380952380953\n"
     ]
    }
   ],
   "source": [
    "#Q10. Write a python script to create a calculator with 4 basic operation and handle a maximum number of exception\n",
    "\n",
    "\n",
    "\n",
    "\n",
    "number_1 = int(input('Enter your first number: '))\n",
    "number_2 = int(input('Enter your second number: '))\n",
    "\n",
    "# Addition\n",
    "print('{} + {} = '.format(number_1, number_2))\n",
    "print(number_1 + number_2)\n",
    "\n",
    "# Subtraction\n",
    "print('{} - {} = '.format(number_1, number_2))\n",
    "print(number_1 - number_2)\n",
    "\n",
    "# Multiplication\n",
    "print('{} * {} = '.format(number_1, number_2))\n",
    "print(number_1 * number_2)\n",
    "\n",
    "# Division\n",
    "print('{} / {} = '.format(number_1, number_2))\n",
    "print(number_1 / number_2)"
   ]
  },
  {
   "cell_type": "code",
   "execution_count": null,
   "id": "5a3d8513",
   "metadata": {},
   "outputs": [],
   "source": []
  }
 ],
 "metadata": {
  "kernelspec": {
   "display_name": "Python 3 (ipykernel)",
   "language": "python",
   "name": "python3"
  },
  "language_info": {
   "codemirror_mode": {
    "name": "ipython",
    "version": 3
   },
   "file_extension": ".py",
   "mimetype": "text/x-python",
   "name": "python",
   "nbconvert_exporter": "python",
   "pygments_lexer": "ipython3",
   "version": "3.9.12"
  }
 },
 "nbformat": 4,
 "nbformat_minor": 5
}
