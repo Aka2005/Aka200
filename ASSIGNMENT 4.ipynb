{
 "cells": [
  {
   "cell_type": "code",
   "execution_count": 1,
   "id": "26f490bf",
   "metadata": {},
   "outputs": [
    {
     "name": "stdout",
     "output_type": "stream",
     "text": [
      "Akash\n"
     ]
    }
   ],
   "source": [
    "#Q.1 Write a python script to take your name as input from the user and then print it\n",
    "\n",
    "a = (\"Akash\")\n",
    "print (a)\n"
   ]
  },
  {
   "cell_type": "code",
   "execution_count": 2,
   "id": "5f84d85d",
   "metadata": {},
   "outputs": [
    {
     "name": "stdout",
     "output_type": "stream",
     "text": [
      "Number\n"
     ]
    }
   ],
   "source": [
    "#Q2.Write a python script to take input from the user. Input must be a number\n",
    "\n",
    "a = (\"Number\")\n",
    "print (a)"
   ]
  },
  {
   "cell_type": "code",
   "execution_count": 4,
   "id": "6f9beec4",
   "metadata": {},
   "outputs": [
    {
     "name": "stdout",
     "output_type": "stream",
     "text": [
      "Number 1:10\n",
      "Number 2:20\n",
      "30\n"
     ]
    }
   ],
   "source": [
    "#Q3. Write a python script which takes two numbers from the users then calculate their sum and display the result\n",
    "\n",
    "number_1 = int(input(\"Number 1:\"))\n",
    "number_2 = int(input(\"Number 2:\"))\n",
    "\n",
    "total = number_1 + number_2\n",
    "print(total)"
   ]
  },
  {
   "cell_type": "code",
   "execution_count": 13,
   "id": "489e46e8",
   "metadata": {},
   "outputs": [
    {
     "name": "stdout",
     "output_type": "stream",
     "text": [
      "Enter Radius2\n",
      "12.568\n"
     ]
    }
   ],
   "source": [
    "#Q4.Write a pyhton script which takes the radius from the user and display area of a circle\n",
    "\n",
    "PI =3.142\n",
    "\n",
    "radius = float(input(\"Enter Radius\"))\n",
    "\n",
    "area_of_circle= PI*radius*radius\n",
    "\n",
    "print(formula)"
   ]
  },
  {
   "cell_type": "code",
   "execution_count": 15,
   "id": "cd0fcba5",
   "metadata": {},
   "outputs": [
    {
     "name": "stdout",
     "output_type": "stream",
     "text": [
      "Enter Number3\n",
      "9.0\n"
     ]
    }
   ],
   "source": [
    "#Q5. Write a python script to calculate the squre of a number.Number is entered by the user\n",
    "\n",
    "number  = float(input(\"Enter Number\"))\n",
    "\n",
    "formula = number*number\n",
    "square_number = number*number\n",
    "print(square_number)"
   ]
  },
  {
   "cell_type": "code",
   "execution_count": 17,
   "id": "e3af7284",
   "metadata": {},
   "outputs": [
    {
     "name": "stdout",
     "output_type": "stream",
     "text": [
      "Enter the base1\n",
      "Enter the height1\n",
      "0.5\n"
     ]
    }
   ],
   "source": [
    "#Q6.Write a python script to calculate the area of triangle. Number is entered by the user\n",
    "\n",
    "HALF = 0.5\n",
    "\n",
    "base = float(input(\"Enter the base\"))\n",
    "height = float(input(\"Enter the height\"))\n",
    "\n",
    "area =HALF*base*height\n",
    "\n",
    "print(area)"
   ]
  },
  {
   "cell_type": "code",
   "execution_count": 20,
   "id": "131893cc",
   "metadata": {},
   "outputs": [
    {
     "name": "stdout",
     "output_type": "stream",
     "text": [
      "Enter Number 1:10\n",
      "Enter Number 2:10\n",
      "Enter Number 3:10\n",
      "10.0\n"
     ]
    }
   ],
   "source": [
    "#Q7.Write a python script to calculate average of three numbers entered by the user\n",
    "\n",
    "\n",
    "number_1 = float(input(\"Enter Number 1:\"))\n",
    "\n",
    "number_2 = float(input(\"Enter Number 2:\"))\n",
    "\n",
    "number_3= float(input(\"Enter Number 3:\"))\n",
    "\n",
    "average = (number_1+number_2+number_3)/3\n",
    "print(average)"
   ]
  },
  {
   "cell_type": "code",
   "execution_count": 21,
   "id": "a8693bfb",
   "metadata": {},
   "outputs": [
    {
     "name": "stdout",
     "output_type": "stream",
     "text": [
      "Enter principle amount:10\n",
      "Enter rate of interest:2\n",
      "Enter time:3\n",
      "0.6\n"
     ]
    }
   ],
   "source": [
    "#Q8. Write a python script to calculate simple interest\n",
    "\n",
    "p = float(input(\"Enter principle amount:\"))\n",
    "r = float(input(\"Enter rate of interest:\"))\n",
    "t = float(input(\"Enter time:\"))\n",
    "si = p*r*t/100\n",
    "print(si)\n"
   ]
  },
  {
   "cell_type": "code",
   "execution_count": 22,
   "id": "4ad8e53b",
   "metadata": {},
   "outputs": [
    {
     "name": "stdout",
     "output_type": "stream",
     "text": [
      "length:12\n",
      "breath:21\n",
      "height:32\n",
      "8064.0\n"
     ]
    }
   ],
   "source": [
    "#Q9. Write a python script to calculate the volume of a cuboid\n",
    "\n",
    "\n",
    "l = float(input(\"length:\"))\n",
    "b = float(input(\"breath:\"))\n",
    "h = float(input(\"height:\"))\n",
    "\n",
    "v = l*b*h\n",
    "print(v)\n",
    "            "
   ]
  },
  {
   "cell_type": "code",
   "execution_count": 23,
   "id": "907b37a1",
   "metadata": {},
   "outputs": [
    {
     "name": "stdout",
     "output_type": "stream",
     "text": [
      "length:12\n",
      "breath:23\n",
      "276.0\n"
     ]
    }
   ],
   "source": [
    "#Q10. Write a python script to calculate the area of a rectangle\n",
    "\n",
    "l  = float(input(\"length:\"))\n",
    "b = float(input(\"breath:\"))\n",
    "\n",
    "a = l*b\n",
    "print(a)"
   ]
  },
  {
   "cell_type": "code",
   "execution_count": null,
   "id": "ff155c29",
   "metadata": {},
   "outputs": [],
   "source": []
  }
 ],
 "metadata": {
  "kernelspec": {
   "display_name": "Python 3 (ipykernel)",
   "language": "python",
   "name": "python3"
  },
  "language_info": {
   "codemirror_mode": {
    "name": "ipython",
    "version": 3
   },
   "file_extension": ".py",
   "mimetype": "text/x-python",
   "name": "python",
   "nbconvert_exporter": "python",
   "pygments_lexer": "ipython3",
   "version": "3.9.12"
  }
 },
 "nbformat": 4,
 "nbformat_minor": 5
}
