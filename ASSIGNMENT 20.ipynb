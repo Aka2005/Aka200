{
 "cells": [
  {
   "cell_type": "code",
   "execution_count": 1,
   "id": "37a8677f",
   "metadata": {},
   "outputs": [
    {
     "name": "stdout",
     "output_type": "stream",
     "text": [
      "21\n"
     ]
    }
   ],
   "source": [
    "#Q1. Write a python program to access the funtion inside a function\n",
    "\n",
    "def test(a):\n",
    "        def add(b):\n",
    "                nonlocal a\n",
    "                a += 1\n",
    "                return a+b\n",
    "        return add\n",
    "func= test(10)\n",
    "print(func(10))"
   ]
  },
  {
   "cell_type": "code",
   "execution_count": 2,
   "id": "9cd4e2e8",
   "metadata": {},
   "outputs": [
    {
     "name": "stdout",
     "output_type": "stream",
     "text": [
      "Enter first number: 14\n",
      "Enter second number: 24\n",
      "Enter third number: 65\n",
      "The smallest number is 14.0\n"
     ]
    }
   ],
   "source": [
    "#Q2. Write a python program to create a function to findd the min of three number\n",
    "\n",
    "num1 = float(input(\"Enter first number: \"))\n",
    "num2 = float(input(\"Enter second number: \"))\n",
    "num3 = float(input(\"Enter third number: \"))\n",
    "\n",
    "smallest = num1\n",
    "if (num2 < num1) and (num2 < num3):\n",
    "    smallest = num2\n",
    "elif (num3 < num1):\n",
    "    smallest = num3\n",
    "\n",
    "print(\"The smallest number is\", smallest)"
   ]
  },
  {
   "cell_type": "code",
   "execution_count": 3,
   "id": "5a9306de",
   "metadata": {},
   "outputs": [
    {
     "name": "stdout",
     "output_type": "stream",
     "text": [
      "[1, 4, 9, 16, 25, 36, 49, 64, 81, 100, 121, 144, 169, 196, 225, 256, 289, 324, 361, 400, 441, 484, 529, 576, 625, 676, 729, 784, 841]\n"
     ]
    }
   ],
   "source": [
    "#Q3. Write a python program to create a function and print a list where the value are squre btween 1 to 30\n",
    "\n",
    "def printValues():\n",
    "\tl = list()\n",
    "\tfor i in range(1,30):\n",
    "\t\tl.append(i**2)\n",
    "\tprint(l)\n",
    "\t\t\n",
    "printValues()"
   ]
  },
  {
   "cell_type": "code",
   "execution_count": 4,
   "id": "8ffe6b4b",
   "metadata": {},
   "outputs": [
    {
     "name": "stdout",
     "output_type": "stream",
     "text": [
      "The strings are anagrams.\n"
     ]
    }
   ],
   "source": [
    "#Q4.Write a python program to create a function to check whtere a string is an anagram or not\n",
    "\n",
    "\n",
    "def check(s1, s2):\n",
    "     \n",
    "    \n",
    "    if(sorted(s1)== sorted(s2)):\n",
    "        print(\"The strings are anagrams.\")\n",
    "    else:\n",
    "        print(\"The strings aren't anagrams.\")        \n",
    "         \n",
    " \n",
    "s1 =\"listen\"\n",
    "s2 =\"silent\"\n",
    "check(s1, s2)\n"
   ]
  },
  {
   "cell_type": "code",
   "execution_count": 5,
   "id": "2b2064a9",
   "metadata": {},
   "outputs": [
    {
     "name": "stdout",
     "output_type": "stream",
     "text": [
      "Sentence: rajesh\n",
      "False\n"
     ]
    }
   ],
   "source": [
    "#Q5.Write a python program to create a function to check whtere a string is an pangram or not\n",
    "\n",
    "import string\n",
    "\n",
    "def ispangram(sentence, alphabet=string.ascii_lowercase): \n",
    "    return set(alphabet) <= set(sentence.lower()) \n",
    "\n",
    "print(ispangram(input('Sentence: ')))"
   ]
  },
  {
   "cell_type": "code",
   "execution_count": 6,
   "id": "89d22132",
   "metadata": {},
   "outputs": [
    {
     "name": "stdout",
     "output_type": "stream",
     "text": [
      "Original String :  The quick Brown Fox\n",
      "No. of Upper case characters :  3\n",
      "No. of Lower case Characters :  13\n"
     ]
    }
   ],
   "source": [
    "#Q6.Write a python program to create a function to create then accept a string and calculate the number upper case letter and lower case letter\n",
    "\n",
    "\n",
    "def string_test(s):\n",
    "    d={\"UPPER_CASE\":0, \"LOWER_CASE\":0}\n",
    "    for c in s:\n",
    "        if c.isupper():\n",
    "           d[\"UPPER_CASE\"]+=1\n",
    "        elif c.islower():\n",
    "           d[\"LOWER_CASE\"]+=1\n",
    "        else:\n",
    "           pass\n",
    "    print (\"Original String : \", s)\n",
    "    print (\"No. of Upper case characters : \", d[\"UPPER_CASE\"])\n",
    "    print (\"No. of Lower case Characters : \", d[\"LOWER_CASE\"])\n",
    "\n",
    "string_test('The quick Brown Fox')"
   ]
  },
  {
   "cell_type": "code",
   "execution_count": 7,
   "id": "95a6e34d",
   "metadata": {},
   "outputs": [
    {
     "name": "stdout",
     "output_type": "stream",
     "text": [
      "True\n"
     ]
    }
   ],
   "source": [
    "#Q7. Write a python program to createa function  that check the wheter a passed string is palinadrome or not\n",
    "\n",
    "def isPalindrome(string):\n",
    "left_pos = 0\n",
    "right_pos = len(string) - 1\n",
    "\n",
    "while right_pos >= left_pos:\n",
    "if not string[left_pos] == string[right_pos]:\n",
    "    return False\n",
    "left_pos += 1\n",
    "right_pos -= 1\n",
    "return True\n",
    "print(isPalindrome('aza')) "
   ]
  },
  {
   "cell_type": "code",
   "execution_count": 8,
   "id": "35cca5d1",
   "metadata": {},
   "outputs": [
    {
     "name": "stdout",
     "output_type": "stream",
     "text": [
      "False\n"
     ]
    }
   ],
   "source": [
    "#Q8. Write a python program to create a function to take a number as a parameter and check if number is prime and not\n",
    "\n",
    "\n",
    "\n",
    "def test_prime(n):\n",
    "    if (n==1):\n",
    "        return False\n",
    "    elif (n==2):\n",
    "        return True;\n",
    "    else:\n",
    "        for x in range(2,n):\n",
    "            if(n % x==0):\n",
    "                return False\n",
    "        return True             \n",
    "print(test_prime(9))"
   ]
  },
  {
   "cell_type": "code",
   "execution_count": 12,
   "id": "4b65e43d",
   "metadata": {},
   "outputs": [
    {
     "name": "stdout",
     "output_type": "stream",
     "text": [
      "[1, 2, 3, 4, 5]\n"
     ]
    }
   ],
   "source": [
    "#Q9. Write a python program to create a function to that take a list and return a new list with the original list unqiue element\n",
    "\n",
    "\n",
    "def unique_list(l):\n",
    "  x = []\n",
    "  for a in l:\n",
    "    if a not in x:\n",
    "      x.append(a)\n",
    "  return x\n",
    "\n",
    "print(unique_list([1,2,3,3,3,3,4,5])) \n"
   ]
  },
  {
   "cell_type": "code",
   "execution_count": null,
   "id": "315b7a57",
   "metadata": {},
   "outputs": [],
   "source": []
  }
 ],
 "metadata": {
  "kernelspec": {
   "display_name": "Python 3 (ipykernel)",
   "language": "python",
   "name": "python3"
  },
  "language_info": {
   "codemirror_mode": {
    "name": "ipython",
    "version": 3
   },
   "file_extension": ".py",
   "mimetype": "text/x-python",
   "name": "python",
   "nbconvert_exporter": "python",
   "pygments_lexer": "ipython3",
   "version": "3.9.12"
  }
 },
 "nbformat": 4,
 "nbformat_minor": 5
}
