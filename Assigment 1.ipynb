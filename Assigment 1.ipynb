{
 "cells": [
  {
   "cell_type": "code",
   "execution_count": 2,
   "id": "bceb2135",
   "metadata": {},
   "outputs": [
    {
     "name": "stdout",
     "output_type": "stream",
     "text": [
      "3.9.7 (default, Sep 16 2021, 16:59:28) [MSC v.1916 64 bit (AMD64)]\n"
     ]
    }
   ],
   "source": [
    "#q1.Write a command to get the python version you are using\n",
    "\n",
    "import sys\n",
    "print(sys. version)\n"
   ]
  },
  {
   "cell_type": "code",
   "execution_count": 3,
   "id": "dab08899",
   "metadata": {},
   "outputs": [
    {
     "name": "stdout",
     "output_type": "stream",
     "text": [
      "Hello python\n"
     ]
    }
   ],
   "source": [
    "#q2.Write a python script to print HELLO PYTHON on the screen directly in the command line.\n",
    "\n",
    "print(\"Hello python\")"
   ]
  },
  {
   "cell_type": "code",
   "execution_count": 4,
   "id": "aa812683",
   "metadata": {},
   "outputs": [
    {
     "name": "stdout",
     "output_type": "stream",
     "text": [
      "Hello\n",
      "Python\n"
     ]
    }
   ],
   "source": [
    "#q3.Write a python script to print Hello onn the first lie annd Pythonn onn the second line\n",
    "\n",
    "print(\"Hello\")\n",
    "print(\"Python\")"
   ]
  },
  {
   "cell_type": "code",
   "execution_count": 5,
   "id": "b042b288",
   "metadata": {},
   "outputs": [
    {
     "name": "stdout",
     "output_type": "stream",
     "text": [
      "\"MySirG\"\n"
     ]
    }
   ],
   "source": [
    "#q5.Write the script to print \"MySirG\"on the screen\n",
    "\n",
    "\n",
    "print(\"\\\"MySirG\\\"\")"
   ]
  },
  {
   "cell_type": "code",
   "execution_count": 6,
   "id": "d1bbc5c8",
   "metadata": {},
   "outputs": [
    {
     "name": "stdout",
     "output_type": "stream",
     "text": [
      "\"Teacher's Day\"\n"
     ]
    }
   ],
   "source": [
    "#q6. Write a python script to print Teacher's Day on the screen\n",
    "\n",
    "print(\"\\\"Teacher's Day\\\"\")"
   ]
  },
  {
   "cell_type": "code",
   "execution_count": 8,
   "id": "fe6182f6",
   "metadata": {},
   "outputs": [
    {
     "name": "stdout",
     "output_type": "stream",
     "text": [
      "akash singh\n"
     ]
    }
   ],
   "source": [
    "#q7.Write apythonn script to print the value of a varaible. Variable contains your name as data\n",
    "\n",
    "x=\"akash singh\"\n",
    "print(x)"
   ]
  },
  {
   "cell_type": "code",
   "execution_count": 9,
   "id": "620b5aa8",
   "metadata": {},
   "outputs": [
    {
     "name": "stdout",
     "output_type": "stream",
     "text": [
      "akash singh 20 MCA 5\n"
     ]
    }
   ],
   "source": [
    "#q9 Writea python script tp create varaibles to store your name ,age, qualification,years ofexperice and print it.\n",
    "\n",
    "a=\"akash singh\"\n",
    "b=20\n",
    "c=\"MCA\"\n",
    "d=5\n",
    "print(a,b,c,d)"
   ]
  },
  {
   "cell_type": "code",
   "execution_count": 10,
   "id": "9f7b0402",
   "metadata": {},
   "outputs": [
    {
     "name": "stdout",
     "output_type": "stream",
     "text": [
      "10\n",
      "5\n",
      "20\n"
     ]
    }
   ],
   "source": [
    "#q10.Write a python script to value of  three varaibles each in a new lie variables containns interger values\n",
    "\n",
    "a=10\n",
    "b=5\n",
    "c=20\n",
    "\n",
    "print(a)\n",
    "print(b)\n",
    "print(c)"
   ]
  },
  {
   "cell_type": "code",
   "execution_count": null,
   "id": "2a2aa1da",
   "metadata": {},
   "outputs": [],
   "source": []
  }
 ],
 "metadata": {
  "kernelspec": {
   "display_name": "Python 3 (ipykernel)",
   "language": "python",
   "name": "python3"
  },
  "language_info": {
   "codemirror_mode": {
    "name": "ipython",
    "version": 3
   },
   "file_extension": ".py",
   "mimetype": "text/x-python",
   "name": "python",
   "nbconvert_exporter": "python",
   "pygments_lexer": "ipython3",
   "version": "3.9.7"
  }
 },
 "nbformat": 4,
 "nbformat_minor": 5
}
