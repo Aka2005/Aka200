{
 "cells": [
  {
   "cell_type": "code",
   "execution_count": 2,
   "id": "e24830a1",
   "metadata": {},
   "outputs": [
    {
     "name": "stdout",
     "output_type": "stream",
     "text": [
      "['Java', 'Python', ' SQL', 'C']\n"
     ]
    }
   ],
   "source": [
    "#Q1. Write a python script to store mutliple item  in a single variable by using method tuple\n",
    "\n",
    "t1 = [\"Java\",\"Python\",\" SQL\",\"C\"]\n",
    "\n",
    "print(t1)"
   ]
  },
  {
   "cell_type": "code",
   "execution_count": 4,
   "id": "6c6ba442",
   "metadata": {},
   "outputs": [
    {
     "name": "stdout",
     "output_type": "stream",
     "text": [
      "['Mumbai']\n"
     ]
    }
   ],
   "source": [
    "#Q2. Write a python programme to store only one item using tuple\n",
    "\n",
    "t2 =[ \"Mumbai\"]\n",
    "\n",
    "print(t2)"
   ]
  },
  {
   "cell_type": "code",
   "execution_count": 7,
   "id": "6ca1c1ed",
   "metadata": {},
   "outputs": [
    {
     "name": "stdout",
     "output_type": "stream",
     "text": [
      "(50, 30, 20, 10)\n"
     ]
    }
   ],
   "source": [
    "#Q3.Write a python programme to reverse the tuple\n",
    "\n",
    "x = [10,20,30,50]\n",
    "\n",
    "y = reversed(x)\n",
    "print(tuple(y))\n"
   ]
  },
  {
   "cell_type": "code",
   "execution_count": 8,
   "id": "deb671e1",
   "metadata": {},
   "outputs": [
    {
     "name": "stdout",
     "output_type": "stream",
     "text": [
      "Enter the first number :20\n",
      "Enter the second number :30\n",
      "a= 20 b= 30\n"
     ]
    }
   ],
   "source": [
    "#Q4. Write a python program to swap two tuple in python\n",
    "\n",
    "a=int(input(\"Enter the first number :\"))\n",
    "b=int(input(\"Enter the second number :\"))\n",
    "print (\"a=\",a, \"b=\",b)"
   ]
  },
  {
   "cell_type": "code",
   "execution_count": 9,
   "id": "5263ac39",
   "metadata": {},
   "outputs": [
    {
     "name": "stdout",
     "output_type": "stream",
     "text": [
      "True\n"
     ]
    }
   ],
   "source": [
    "#Q5.Write a python program to check if all items in the tuple are the same\n",
    "\n",
    "x = (True, True, True)\n",
    "result = all(x)\n",
    "print(result)\n"
   ]
  },
  {
   "cell_type": "code",
   "execution_count": 10,
   "id": "c2633ceb",
   "metadata": {},
   "outputs": [
    {
     "name": "stdout",
     "output_type": "stream",
     "text": [
      "Enter the first number100\n",
      "Enter the second number200\n",
      "Enter the third number300\n",
      "Enter the fourth number400\n",
      "Divison of 4 numbers =  4.166666666666667e-06\n"
     ]
    }
   ],
   "source": [
    "#Q6. Write a python programe  to divide the tuple into four variables tuble 1 =(100,200,300,400)\n",
    "\n",
    "\n",
    "\n",
    "a = int(input(\"Enter the first number\"))\n",
    "b = int(input(\"Enter the second number\"))\n",
    "c = int(input(\"Enter the third number\"))\n",
    "d = int(input(\"Enter the fourth number\"))\n",
    "\n",
    "print(\"Divison of 4 numbers = \", a/b/c/d)"
   ]
  },
  {
   "cell_type": "code",
   "execution_count": 12,
   "id": "682902e3",
   "metadata": {},
   "outputs": [
    {
     "name": "stdout",
     "output_type": "stream",
     "text": [
      "[('a', 21), ('b', 37), ('c', 11), ('d', 29)]\n"
     ]
    }
   ],
   "source": [
    "#Q7.Write a python program to sort a tuple of tuples by the secondd item\n",
    "\n",
    "\n",
    "t6 = (('a',21),('b',37),('c',11),('d',29))\n",
    "\n",
    "print(sorted(t6))"
   ]
  },
  {
   "cell_type": "code",
   "execution_count": null,
   "id": "124e6e08",
   "metadata": {},
   "outputs": [],
   "source": []
  }
 ],
 "metadata": {
  "kernelspec": {
   "display_name": "Python 3 (ipykernel)",
   "language": "python",
   "name": "python3"
  },
  "language_info": {
   "codemirror_mode": {
    "name": "ipython",
    "version": 3
   },
   "file_extension": ".py",
   "mimetype": "text/x-python",
   "name": "python",
   "nbconvert_exporter": "python",
   "pygments_lexer": "ipython3",
   "version": "3.9.12"
  }
 },
 "nbformat": 4,
 "nbformat_minor": 5
}
