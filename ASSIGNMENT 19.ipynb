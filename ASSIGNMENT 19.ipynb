{
 "cells": [
  {
   "cell_type": "code",
   "execution_count": 2,
   "id": "ff6018ff",
   "metadata": {},
   "outputs": [
    {
     "name": "stdout",
     "output_type": "stream",
     "text": [
      "MySirG\n"
     ]
    }
   ],
   "source": [
    "#Q1. Write a python program to cretae a simple function  which print \"MySirG\"\n",
    "\n",
    "def fun():\n",
    "    print(\"MySirG\")\n",
    " \n",
    " \n",
    "\n",
    "fun()\n",
    "\n"
   ]
  },
  {
   "cell_type": "code",
   "execution_count": 3,
   "id": "b1f96774",
   "metadata": {},
   "outputs": [
    {
     "name": "stdout",
     "output_type": "stream",
     "text": [
      "20\n"
     ]
    }
   ],
   "source": [
    "#Q2.Write a python program to sum all the number in a list\n",
    "\n",
    "def sum(numbers):\n",
    "    total = 0\n",
    "    for x in numbers:\n",
    "        total += x\n",
    "    return total\n",
    "print(sum((8, 2, 3, 0, 7)))\n"
   ]
  },
  {
   "cell_type": "code",
   "execution_count": 4,
   "id": "4ebf018b",
   "metadata": {},
   "outputs": [
    {
     "name": "stdout",
     "output_type": "stream",
     "text": [
      "-336\n"
     ]
    }
   ],
   "source": [
    "#Q3. Write a python program to multiply all the number in a list\n",
    "\n",
    "def multiply(numbers):  \n",
    "    total = 1\n",
    "    for x in numbers:\n",
    "        total *= x  \n",
    "    return total  \n",
    "print(multiply((8, 2, 3, -1, 7)))\n"
   ]
  },
  {
   "cell_type": "code",
   "execution_count": 7,
   "id": "997f3026",
   "metadata": {},
   "outputs": [
    {
     "name": "stdout",
     "output_type": "stream",
     "text": [
      "first == Geeks\n",
      "mid == for\n",
      "last == Geeks\n"
     ]
    }
   ],
   "source": [
    "#Q4 . Write a python program to create a function which expects kwargs arguments\n",
    "\n",
    "def myFun(**kwargs):\n",
    "    for key, value in kwargs.items():\n",
    "        print(\"%s == %s\" % (key, value))\n",
    " \n",
    "myFun(first='Geeks', mid='for', last='Geeks')"
   ]
  },
  {
   "cell_type": "code",
   "execution_count": 13,
   "id": "6cf0ce1f",
   "metadata": {},
   "outputs": [
    {
     "name": "stdout",
     "output_type": "stream",
     "text": [
      "6\n"
     ]
    }
   ],
   "source": [
    " #Q5. Write a python program to create a function which expects a list as an arguments\n",
    "    \n",
    "def add(*params):\n",
    "    sum = 0\n",
    "    for num in params:\n",
    "        sum += num\n",
    "    print(sum)\n",
    "    \n",
    "\n",
    "my_list = [1,2,3]\n",
    "\n",
    "add(*my_list)"
   ]
  },
  {
   "cell_type": "code",
   "execution_count": 20,
   "id": "25255333",
   "metadata": {},
   "outputs": [
    {
     "name": "stdout",
     "output_type": "stream",
     "text": [
      "Enter a number: 55\n",
      "55 is Odd\n"
     ]
    }
   ],
   "source": [
    "#Q6.Write a python program to create a function to check wheter a given number is even or odd\n",
    "\n",
    "\n",
    "num = int(input(\"Enter a number: \"))\n",
    "if (num % 2) == 0:\n",
    "   print(\"{0} is Even\".format(num))\n",
    "else:\n",
    "   print(\"{0} is Odd\".format(num))"
   ]
  },
  {
   "cell_type": "code",
   "execution_count": 21,
   "id": "55bfb054",
   "metadata": {},
   "outputs": [
    {
     "name": "stdout",
     "output_type": "stream",
     "text": [
      "Number 15 is in the range\n"
     ]
    }
   ],
   "source": [
    "#Q7. Write a python  program to create a function to check wheter a number falls in a given range\n",
    "\n",
    "\n",
    "def test_range(n):\n",
    "    if n in range(10,20):\n",
    "        print( \"Number %s is in the range\"%str(n))\n",
    "    else :\n",
    "        print(\"The number is outside the given range.\")\n",
    "test_range(15)"
   ]
  },
  {
   "cell_type": "code",
   "execution_count": 22,
   "id": "7aa09017",
   "metadata": {},
   "outputs": [
    {
     "name": "stdout",
     "output_type": "stream",
     "text": [
      " The number of arguments are:  4\n"
     ]
    }
   ],
   "source": [
    "#Q8. Write a python program to cretee a function whiich expects an unknown number of arguments\n",
    "\n",
    "def no_of_argu(*args):\n",
    "     \n",
    "    \n",
    "    return(len(args))\n",
    " \n",
    " \n",
    "a = 1\n",
    "b = 3\n",
    " \n",
    "\n",
    "n = no_of_argu(1, 2, 4, a)\n",
    " \n",
    "\n",
    "print(\" The number of arguments are: \", n)"
   ]
  },
  {
   "cell_type": "code",
   "execution_count": null,
   "id": "865df894",
   "metadata": {},
   "outputs": [],
   "source": []
  }
 ],
 "metadata": {
  "kernelspec": {
   "display_name": "Python 3 (ipykernel)",
   "language": "python",
   "name": "python3"
  },
  "language_info": {
   "codemirror_mode": {
    "name": "ipython",
    "version": 3
   },
   "file_extension": ".py",
   "mimetype": "text/x-python",
   "name": "python",
   "nbconvert_exporter": "python",
   "pygments_lexer": "ipython3",
   "version": "3.9.12"
  }
 },
 "nbformat": 4,
 "nbformat_minor": 5
}
