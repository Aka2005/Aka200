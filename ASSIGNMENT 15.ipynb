{
 "cells": [
  {
   "cell_type": "code",
   "execution_count": 1,
   "id": "375e0522",
   "metadata": {},
   "outputs": [
    {
     "name": "stdout",
     "output_type": "stream",
     "text": [
      "str =  programiz\n",
      "str[0] =  p\n",
      "str[-1] =  z\n",
      "str[1:5] =  rogr\n",
      "str[5:-2] =  am\n"
     ]
    }
   ],
   "source": [
    "#Q1. Write a python script to create a string in 3 different possible ways\n",
    "\n",
    "\n",
    "\n",
    "\n",
    "str = 'programiz'\n",
    "print('str = ', str)\n",
    "\n",
    "\n",
    "print('str[0] = ', str[0])\n",
    "\n",
    "\n",
    "print('str[-1] = ', str[-1])\n",
    "\n",
    "\n",
    "print('str[1:5] = ', str[1:5])\n",
    "\n",
    "\n",
    "print('str[5:-2] = ', str[5:-2])"
   ]
  },
  {
   "cell_type": "code",
   "execution_count": 7,
   "id": "59719563",
   "metadata": {},
   "outputs": [
    {
     "name": "stdout",
     "output_type": "stream",
     "text": [
      "<class 'int'>\n",
      "<class 'str'>\n"
     ]
    }
   ],
   "source": [
    "#Q2. Write a python script to convert an integer to a string\n",
    "\n",
    "a = 10\n",
    "print(type(a))\n",
    " \n",
    "\n",
    "convert_a = \"% s\" % a\n",
    "print(type(convert_a))"
   ]
  },
  {
   "cell_type": "code",
   "execution_count": 9,
   "id": "3ba098be",
   "metadata": {},
   "outputs": [
    {
     "name": "stdout",
     "output_type": "stream",
     "text": [
      "str1 contains only alphabets: False\n"
     ]
    }
   ],
   "source": [
    "#Q3.Write a python script to check if a string contains only charcters of the alphabets\n",
    "\n",
    "str1 = \"hello world. welcome to python examples.\"\n",
    "\n",
    "bool = str1.isalpha()\n",
    "\n",
    "print('str1 contains only alphabets:', bool)"
   ]
  },
  {
   "cell_type": "code",
   "execution_count": 12,
   "id": "1224e1b1",
   "metadata": {},
   "outputs": [
    {
     "name": "stdout",
     "output_type": "stream",
     "text": [
      "True\n"
     ]
    }
   ],
   "source": [
    "#Q4. Write a python script to chech if a string contains only numbers\n",
    "\n",
    "\n",
    "\n",
    "s = \"-127\"\n",
    "\n",
    "print(s.lstrip('-').isdigit())"
   ]
  },
  {
   "cell_type": "code",
   "execution_count": 13,
   "id": "7e831357",
   "metadata": {},
   "outputs": [
    {
     "name": "stdout",
     "output_type": "stream",
     "text": [
      "Exists\n"
     ]
    }
   ],
   "source": [
    "#Q5.Write a python script to determine wheter a string contains a specific substring\n",
    "\n",
    "\n",
    "\n",
    "if \"Hire\" in \"Hire the top freelancers\":\n",
    "    print(\"Exists\")\n",
    "else:\n",
    "    print(\"Does not exist\")"
   ]
  },
  {
   "cell_type": "code",
   "execution_count": 14,
   "id": "e0b639f3",
   "metadata": {},
   "outputs": [
    {
     "name": "stdout",
     "output_type": "stream",
     "text": [
      "norueNi\n"
     ]
    }
   ],
   "source": [
    "\n",
    "\n",
    "#Q6. Write a python script to reverse a string(\"iNeuron\")\n",
    "\n",
    "\n",
    "txt = \"iNeuron\" [::-1]\n",
    "print(txt)"
   ]
  },
  {
   "cell_type": "code",
   "execution_count": 19,
   "id": "f16e0d25",
   "metadata": {},
   "outputs": [
    {
     "name": "stdout",
     "output_type": "stream",
     "text": [
      "7\n"
     ]
    }
   ],
   "source": [
    "#Q7.Write a python script to get the count of total number of charcters in string \"ineuron\"\n",
    "\n",
    "s = 'iNeuron'\n",
    "\n",
    "print(len(s))"
   ]
  },
  {
   "cell_type": "code",
   "execution_count": 20,
   "id": "5c8d14d1",
   "metadata": {},
   "outputs": [
    {
     "name": "stdout",
     "output_type": "stream",
     "text": [
      "LearingPython\n"
     ]
    }
   ],
   "source": [
    "#Q8.Write a python script to demonstrate string concatination adding space in between(given strings a=\"Learing\" \"Python\")\n",
    "\n",
    "\n",
    "a = \"Learing\"\n",
    "b = \"Python\"\n",
    "\n",
    "c = a+b\n",
    "\n",
    "print(c)\n",
    " "
   ]
  },
  {
   "cell_type": "code",
   "execution_count": 23,
   "id": "7bb90f85",
   "metadata": {},
   "outputs": [
    {
     "name": "stdout",
     "output_type": "stream",
     "text": [
      "l [5]\n"
     ]
    }
   ],
   "source": [
    "#Q9.Write a python script to get the character from position 2 to position 5(given string \"Hello Learner\"by using slice syntex)\n",
    "\n",
    "\n",
    "ss = \"Hello Learners\"\n",
    "print(ss[2],[5])"
   ]
  },
  {
   "cell_type": "code",
   "execution_count": null,
   "id": "b7ba47b0",
   "metadata": {},
   "outputs": [],
   "source": []
  }
 ],
 "metadata": {
  "kernelspec": {
   "display_name": "Python 3 (ipykernel)",
   "language": "python",
   "name": "python3"
  },
  "language_info": {
   "codemirror_mode": {
    "name": "ipython",
    "version": 3
   },
   "file_extension": ".py",
   "mimetype": "text/x-python",
   "name": "python",
   "nbconvert_exporter": "python",
   "pygments_lexer": "ipython3",
   "version": "3.9.12"
  }
 },
 "nbformat": 4,
 "nbformat_minor": 5
}
