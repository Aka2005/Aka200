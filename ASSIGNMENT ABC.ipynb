{
 "cells": [
  {
   "cell_type": "code",
   "execution_count": 3,
   "id": "3111a96e",
   "metadata": {},
   "outputs": [
    {
     "name": "stdout",
     "output_type": "stream",
     "text": [
      "Enter a number: 2\n",
      "The sum is 3\n"
     ]
    }
   ],
   "source": [
    "#Q1. Write a recursive python function to calculate sum of first n natural numbers\n",
    "\n",
    "def rsum(n):\n",
    "    if n <= 1:\n",
    "        return n\n",
    "    else:\n",
    "        return n + rsum(n-1)\n",
    "\n",
    "num = int(input(\"Enter a number: \"))\n",
    "ttl=rsum(num)\n",
    "print(\"The sum is\",ttl)"
   ]
  },
  {
   "cell_type": "code",
   "execution_count": 6,
   "id": "389bca8c",
   "metadata": {},
   "outputs": [
    {
     "name": "stdout",
     "output_type": "stream",
     "text": [
      "Enter your Limit:\n",
      "5\n",
      "Sum of all odd numbers in the given range is: 9\n"
     ]
    }
   ],
   "source": [
    "#Q2. Write a recursive python function to calculate sum of first n odd natural number\n",
    "\n",
    "\n",
    "def SumOdd(num1,num2):\n",
    "    if num1>num2:\n",
    "        return 0\n",
    "\n",
    "    return num1+SumOdd(num1+2,num2)\n",
    "num1=1\n",
    "print(\"Enter your Limit:\")\n",
    "num2=int(input())\n",
    "print(\"Sum of all odd numbers in the given range is:\",SumOdd(num1,num2))"
   ]
  },
  {
   "cell_type": "code",
   "execution_count": 7,
   "id": "c50cb704",
   "metadata": {},
   "outputs": [
    {
     "name": "stdout",
     "output_type": "stream",
     "text": [
      "11\n"
     ]
    }
   ],
   "source": [
    "#Q3.Write a recursive python function to calculate sum of first n even natural number\n",
    "\n",
    "\n",
    "def sum_of_even(n):\n",
    "    if not n % 2 == 0:\n",
    "        return n\n",
    "    else:\n",
    "        return n + sum_of_even(n-1)\n",
    "\n",
    "\n",
    "print(sum_of_even(6))"
   ]
  },
  {
   "cell_type": "code",
   "execution_count": 8,
   "id": "cc2d551f",
   "metadata": {},
   "outputs": [
    {
     "name": "stdout",
     "output_type": "stream",
     "text": [
      "5\n"
     ]
    }
   ],
   "source": [
    "#Q4. Write a recursive python function to calculate sum of squre of first n natural numbers\n",
    "\n",
    "def summation(n):\n",
    "    return sum([i**2 for i in\n",
    "               range(1, n + 1)])\n",
    " \n",
    "\n",
    "if __name__ == \"__main__\":\n",
    "    n = 2\n",
    "    print(summation(n))"
   ]
  },
  {
   "cell_type": "code",
   "execution_count": 12,
   "id": "c0b90c62",
   "metadata": {},
   "outputs": [
    {
     "name": "stdout",
     "output_type": "stream",
     "text": [
      "Enter value of N: 5\n",
      "Sum of cubes =  225\n"
     ]
    }
   ],
   "source": [
    "#Q5. Write a recursive python function to calculate sum of cubes of first n natural numbers\n",
    "\n",
    "N = int(input(\"Enter value of N: \"))\n",
    "\n",
    "sumVal = 0\n",
    "for i in range(1, N+1):\n",
    "    sumVal += (i*i*i)\n",
    "\n",
    "print(\"Sum of cubes = \", sumVal)"
   ]
  },
  {
   "cell_type": "code",
   "execution_count": 13,
   "id": "1239a825",
   "metadata": {},
   "outputs": [
    {
     "name": "stdout",
     "output_type": "stream",
     "text": [
      "The factorial of 7 is 5040\n"
     ]
    }
   ],
   "source": [
    "#Q6 . Write a recursive python funnction to calculate the factorial of a number\n",
    "\n",
    "\n",
    "def recur_factorial(n):\n",
    "   if n == 1:\n",
    "       return n\n",
    "   else:\n",
    "       return n*recur_factorial(n-1)\n",
    "\n",
    "num = 7\n",
    "\n",
    "if num < 0:\n",
    "   print(\"Sorry, factorial does not exist for negative numbers\")\n",
    "elif num == 0:\n",
    "   print(\"The factorial of 0 is 1\")\n",
    "else:\n",
    "   print(\"The factorial of\", num, \"is\", recur_factorial(num))"
   ]
  },
  {
   "cell_type": "code",
   "execution_count": 17,
   "id": "348f8af3",
   "metadata": {},
   "outputs": [
    {
     "name": "stdout",
     "output_type": "stream",
     "text": [
      "Sum of digits in 12345 is 15\n"
     ]
    }
   ],
   "source": [
    "#Q7. Write a recursive python functio to calculate sum of the digit of a given number\n",
    "\n",
    "\n",
    "\n",
    "def sum_of_digit( n ):\n",
    "\tif n == 0:\n",
    "\t\treturn 0\n",
    "\treturn (n % 10 + sum_of_digit(int(n / 10)))\n",
    "num = 12345\n",
    "result = sum_of_digit(num)\n",
    "print(\"Sum of digits in\",num,\"is\", result)\n"
   ]
  },
  {
   "cell_type": "code",
   "execution_count": 19,
   "id": "f3b614b7",
   "metadata": {},
   "outputs": [
    {
     "name": "stdout",
     "output_type": "stream",
     "text": [
      "Enter an integer: 54\n",
      "110110"
     ]
    }
   ],
   "source": [
    "#Q8. Write a recursive python functio to print binary of a given decimal number\n",
    "\n",
    "def binary(n):\n",
    "   \"\"\"Function to print binary number\n",
    "   for the input decimal using recursion\"\"\"\n",
    "   if n > 1:\n",
    "       binary(n//2)\n",
    "   print(n % 2,end = '')\n",
    "\n",
    "dec = int(input(\"Enter an integer: \"))\n",
    "binary(dec)"
   ]
  },
  {
   "cell_type": "code",
   "execution_count": 20,
   "id": "3bb00ebf",
   "metadata": {},
   "outputs": [
    {
     "name": "stdout",
     "output_type": "stream",
     "text": [
      "41"
     ]
    }
   ],
   "source": [
    "#Q9.Write a recursive python functio to print octal of a given decimal number\n",
    "\n",
    "\n",
    "def decToOctal(n):\n",
    "\n",
    "   \n",
    "    octalNum = [0] * 100\n",
    "    \n",
    "    i = 0\n",
    "    while (n != 0):\n",
    "        \n",
    "        octalNum[i] = n % 8\n",
    "        n = int(n / 8)\n",
    "        i += 1\n",
    "    \n",
    "    for j in range(i - 1, -1, -1):\n",
    "        print(octalNum[j], end=\"\")\n",
    " \n",
    " \n",
    "\n",
    "n = 33\n",
    "decToOctal(n)"
   ]
  },
  {
   "cell_type": "code",
   "execution_count": 21,
   "id": "7a645c68",
   "metadata": {},
   "outputs": [
    {
     "name": "stdout",
     "output_type": "stream",
     "text": [
      "34\n"
     ]
    }
   ],
   "source": [
    "#Q10.Write a recursive python functio to find the nth term of the fibonacci series\n",
    "\n",
    "\n",
    "\n",
    "\n",
    "def Fibonacci(n):\n",
    "    if n<= 0:\n",
    "        print(\"Incorrect input\")\n",
    "    # First Fibonacci number is 0\n",
    "    elif n == 1:\n",
    "        return 0\n",
    "    # Second Fibonacci number is 1\n",
    "    elif n == 2:\n",
    "        return 1\n",
    "    else:\n",
    "        return Fibonacci(n-1)+Fibonacci(n-2)\n",
    "\n",
    " \n",
    "print(Fibonacci(10))"
   ]
  },
  {
   "cell_type": "code",
   "execution_count": null,
   "id": "0bf07d61",
   "metadata": {},
   "outputs": [],
   "source": []
  }
 ],
 "metadata": {
  "kernelspec": {
   "display_name": "Python 3 (ipykernel)",
   "language": "python",
   "name": "python3"
  },
  "language_info": {
   "codemirror_mode": {
    "name": "ipython",
    "version": 3
   },
   "file_extension": ".py",
   "mimetype": "text/x-python",
   "name": "python",
   "nbconvert_exporter": "python",
   "pygments_lexer": "ipython3",
   "version": "3.9.12"
  }
 },
 "nbformat": 4,
 "nbformat_minor": 5
}
