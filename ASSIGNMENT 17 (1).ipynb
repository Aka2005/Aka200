{
 "cells": [
  {
   "cell_type": "code",
   "execution_count": 1,
   "id": "18c56f62",
   "metadata": {},
   "outputs": [
    {
     "name": "stdout",
     "output_type": "stream",
     "text": [
      "{'Java', 'SQL', 'C'}\n"
     ]
    }
   ],
   "source": [
    "#Q1.Write a python program to store all the programming language known to you using set\n",
    "\n",
    "s1 = {\"Java\",\"C\",\"SQL\",}\n",
    "\n",
    "print(s1)"
   ]
  },
  {
   "cell_type": "code",
   "execution_count": 6,
   "id": "86b84495",
   "metadata": {},
   "outputs": [
    {
     "name": "stdout",
     "output_type": "stream",
     "text": [
      "Name: Akash\n",
      "Age: 20\\Gender: Male\n"
     ]
    }
   ],
   "source": [
    "#Q2.Write a python program to store your own information {name,age,address} using set\n",
    "\n",
    "\n",
    "name = \"Akash\"\n",
    "age  =  20\n",
    "gender = \"Male\"\n",
    "print(\"Name: {}\\nAge: {}\\Gender: {}\".format(name, age, gender))\n",
    "\n",
    "\n"
   ]
  },
  {
   "cell_type": "code",
   "execution_count": 7,
   "id": "ea9680e3",
   "metadata": {},
   "outputs": [
    {
     "name": "stdout",
     "output_type": "stream",
     "text": [
      "{True, 34, 'abc', 'male', 40, 'False', 'Hello', 20}\n"
     ]
    }
   ],
   "source": [
    "#Q3.Write a python script to get the data type of a set\n",
    "\n",
    "myset = {\"abc\", 34, True, 40, \"male\", \"Hello\", 20, \"False\"}\n",
    "print(myset)\n",
    "\n"
   ]
  },
  {
   "cell_type": "code",
   "execution_count": 10,
   "id": "8d716d16",
   "metadata": {},
   "outputs": [
    {
     "name": "stdout",
     "output_type": "stream",
     "text": [
      "Yes, 'Python' is in this set\n"
     ]
    }
   ],
   "source": [
    "#Q4. Write a python script to find \"PYTHON\" is present in the set thisset = {\"Java\",\"Python\",Django\"}\n",
    "\n",
    "thisset = {\"Python\", \"Java\", \"Django\"}\n",
    "\n",
    "if \"Python\" in thisset:\n",
    "  print(\"Yes, 'Python' is in this set\")\n"
   ]
  },
  {
   "cell_type": "code",
   "execution_count": 18,
   "id": "051890f3",
   "metadata": {},
   "outputs": [
    {
     "name": "stdout",
     "output_type": "stream",
     "text": [
      "{'c', 'Python', 'Java', 'C'}\n"
     ]
    }
   ],
   "source": [
    "#Q5. Write a python program to add items from another set to the current set thisset  s2 = {\"Java\",\"C\",\"Python\",}and second {\"c\",\"NoSQL\",\"Cpp\"}\n",
    "\n",
    "thisset = {\"Java\",\"C\",\"Python\"}\n",
    "\n",
    "thisset.add(\"c\")\n",
    "\n",
    "print(thisset)"
   ]
  },
  {
   "cell_type": "code",
   "execution_count": 23,
   "id": "faa5ac24",
   "metadata": {},
   "outputs": [
    {
     "name": "stdout",
     "output_type": "stream",
     "text": [
      "Updated set after adding elements:  {'JavaScript', 'Java', 'Django', 'C'}\n"
     ]
    }
   ],
   "source": [
    "#Q6. Write a python programming of list to a set\n",
    "\n",
    "\n",
    "\n",
    "set1 = {\"Java\",\"Django\",\"JavaScript\"}\n",
    "\n",
    "\n",
    "list_to_add = [\"Java\",\"C\"]\n",
    "\n",
    "\n",
    "set1.update(list_to_add)\n",
    "\n",
    "print('Updated set after adding elements: ', set1)\n"
   ]
  },
  {
   "cell_type": "code",
   "execution_count": 30,
   "id": "cc3a7746",
   "metadata": {},
   "outputs": [
    {
     "name": "stdout",
     "output_type": "stream",
     "text": [
      "{'JavaScript', 'Java', 'Django'}\n"
     ]
    }
   ],
   "source": [
    "#Q7. Write a python program to remove last item of the given set\n",
    "\n",
    "sets = {\"Java\",\"Django\",\"JavaScript\",\"SQL\"}\n",
    "\n",
    "sets.discard(\"SQL\")\n",
    "print(sets)\n",
    "\n"
   ]
  },
  {
   "cell_type": "code",
   "execution_count": 33,
   "id": "4e2ddd38",
   "metadata": {},
   "outputs": [
    {
     "name": "stdout",
     "output_type": "stream",
     "text": [
      "sets (after clear): set()\n"
     ]
    }
   ],
   "source": [
    "#Q8 . Write a python program to delte the set completly\n",
    "\n",
    "sets = {\"Java\",\"Django\",\"JavaScript\",\"SQL\"}\n",
    "\n",
    "sets.clear()\n",
    "\n",
    "print('sets (after clear):', sets)\n"
   ]
  },
  {
   "cell_type": "code",
   "execution_count": 34,
   "id": "ec14e7b1",
   "metadata": {},
   "outputs": [
    {
     "name": "stdout",
     "output_type": "stream",
     "text": [
      "Original set elements:\n",
      "{2, 3, 20, 5, 10, 15}\n",
      "<class 'set'>\n",
      "\n",
      "Maximum value of the said set:\n",
      "20\n",
      "\n",
      "Minimum value of the said set:\n",
      "2\n"
     ]
    }
   ],
   "source": [
    "#Q9 . Write a python program to find the maximum and minimum value of set\n",
    "\n",
    "\n",
    "setn = {5, 10, 3, 15, 2, 20}\n",
    "print(\"Original set elements:\")\n",
    "print(setn)\n",
    "print(type(setn))\n",
    "print(\"\\nMaximum value of the said set:\")\n",
    "print(max(setn))\n",
    "print(\"\\nMinimum value of the said set:\")\n",
    "print(min(setn))"
   ]
  },
  {
   "cell_type": "code",
   "execution_count": null,
   "id": "e74c9845",
   "metadata": {},
   "outputs": [],
   "source": []
  }
 ],
 "metadata": {
  "kernelspec": {
   "display_name": "Python 3 (ipykernel)",
   "language": "python",
   "name": "python3"
  },
  "language_info": {
   "codemirror_mode": {
    "name": "ipython",
    "version": 3
   },
   "file_extension": ".py",
   "mimetype": "text/x-python",
   "name": "python",
   "nbconvert_exporter": "python",
   "pygments_lexer": "ipython3",
   "version": "3.9.12"
  }
 },
 "nbformat": 4,
 "nbformat_minor": 5
}
