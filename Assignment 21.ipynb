{
 "cells": [
  {
   "cell_type": "code",
   "execution_count": 1,
   "id": "182a60cb",
   "metadata": {},
   "outputs": [
    {
     "name": "stdout",
     "output_type": "stream",
     "text": [
      "Enter number: 678\n",
      "Reverse of 678 is 876\n"
     ]
    }
   ],
   "source": [
    "#Q1.Write a recursive python function to print a number in reverse order\n",
    "\n",
    "def reverse(n, r):\n",
    "    if n==0:\n",
    "        return r\n",
    "    else:\n",
    "        return reverse(n//10, r*10 + n%10)\n",
    "\n",
    "\n",
    "number = int(input(\"Enter number: \"))\n",
    "\n",
    "\n",
    "reversed_number = reverse(number,0)\n",
    "\n",
    "\n",
    "print(\"Reverse of %d is %d\" %(number, reversed_number))"
   ]
  },
  {
   "cell_type": "code",
   "execution_count": 6,
   "id": "0908b1c5",
   "metadata": {},
   "outputs": [
    {
     "name": "stdout",
     "output_type": "stream",
     "text": [
      "Enter number: 5\n",
      "The multiples are: \n",
      "5 10 15 20 25 30 35 40 45 50 "
     ]
    }
   ],
   "source": [
    "#Q2. Write a reursive python function to print first n  mutilples of given number\n",
    "\n",
    "number = int(input(\"Enter number: \"))\n",
    "\n",
    "print(\"The multiples are: \")\n",
    "for i in range(1,11):\n",
    "    print(number*i, end =\" \")"
   ]
  },
  {
   "cell_type": "code",
   "execution_count": 7,
   "id": "2126a15f",
   "metadata": {},
   "outputs": [
    {
     "name": "stdout",
     "output_type": "stream",
     "text": [
      "Enter the value of n : 5\n",
      "Cube sum :  225\n"
     ]
    }
   ],
   "source": [
    "#Q3. Write a recursive python function to print first n cubes of given natural number\n",
    "\n",
    "\n",
    "def findCubeSum(n):\n",
    "    sum = 0\n",
    "    for value in range(1, n+1):\n",
    "        sum += value**3\n",
    "    return sum\n",
    "\n",
    "\n",
    "n = int(input(\"Enter the value of n : \"))\n",
    "\n",
    "print(\"Cube sum : \", findCubeSum(n))"
   ]
  },
  {
   "cell_type": "code",
   "execution_count": 8,
   "id": "7a7cbe5b",
   "metadata": {},
   "outputs": [
    {
     "name": "stdout",
     "output_type": "stream",
     "text": [
      "0 1 4 9 16 "
     ]
    }
   ],
   "source": [
    "#Q4. Write a recursive python function to print first n squre of first natural number\n",
    "\n",
    "\n",
    "def printSquares(n):\n",
    " \n",
    "   \n",
    "    square = 0; prev_x = 0;\n",
    " \n",
    "   \n",
    "    for x in range(0, n):\n",
    "         \n",
    "       \n",
    "        square = (square + x + prev_x)\n",
    " \n",
    "       \n",
    "        print(square, end = \" \")\n",
    "        prev_x = x\n",
    " \n",
    "n = 5;\n",
    "printSquares(n);\n",
    " \n",
    "\n",
    " \n"
   ]
  },
  {
   "cell_type": "code",
   "execution_count": 10,
   "id": "52f5918a",
   "metadata": {},
   "outputs": [
    {
     "name": "stdout",
     "output_type": "stream",
     "text": [
      "enter the number 5\n",
      "2\n",
      "4\n",
      "6\n",
      "8\n",
      "10\n"
     ]
    }
   ],
   "source": [
    "#Q5.Write a recursive python function to print first n even natural number \n",
    "\n",
    "\n",
    "def even(i,n): \n",
    "\tif i<=n: \n",
    "\t\tprint(2*i) \n",
    "\t\teven(i+1,n) \n",
    "n=int(input('enter the number ')) \n",
    "even(1,n) \n",
    "\n"
   ]
  },
  {
   "cell_type": "code",
   "execution_count": 11,
   "id": "1ade2ee8",
   "metadata": {},
   "outputs": [
    {
     "name": "stdout",
     "output_type": "stream",
     "text": [
      "5\n",
      "[10, 8, 6, 4, 2]\n"
     ]
    }
   ],
   "source": [
    "#Q6 .Write a recursive python function to print first n even natural number in reverse order\n",
    "\n",
    "n= int(input())\n",
    "num= 2 \n",
    "listt= []\n",
    "while n>0:\n",
    "    listt.append(num)\n",
    "    n-=1\n",
    "    num+=2\n",
    "listt.reverse()\n",
    "print(listt)\n"
   ]
  },
  {
   "cell_type": "code",
   "execution_count": 22,
   "id": "daf89c21",
   "metadata": {},
   "outputs": [
    {
     "name": "stdout",
     "output_type": "stream",
     "text": [
      "1 3 5 7 9 11 13 15 "
     ]
    }
   ],
   "source": [
    "#Q7.Write a recursive python function to print first n odd natural number\n",
    "\n",
    "start, end = 1,15\n",
    " \n",
    "for num in range(start, end + 1):\n",
    "     \n",
    "    \n",
    "    if num % 2 != 0:\n",
    "        print(num, end = \" \")\n",
    "\n"
   ]
  },
  {
   "cell_type": "code",
   "execution_count": 1,
   "id": "a54ff06f",
   "metadata": {},
   "outputs": [
    {
     "name": "stdout",
     "output_type": "stream",
     "text": [
      "5 4 3 2 1 "
     ]
    }
   ],
   "source": [
    "#Q8.Write a recursive python function to print first n  natural number reverse order\n",
    "def PrintReverseOrder(N):\n",
    "     \n",
    "    for i in range(N, 0, -1):\n",
    "        print(i, end = \" \");\n",
    " \n",
    "\n",
    "if __name__ == '__main__':\n",
    "     \n",
    "    N = 5;\n",
    "    PrintReverseOrder(N);\n",
    " \n"
   ]
  },
  {
   "cell_type": "code",
   "execution_count": 2,
   "id": "5be4a1e7",
   "metadata": {},
   "outputs": [
    {
     "name": "stdout",
     "output_type": "stream",
     "text": [
      "Enter N : 5\n",
      "1\n",
      "2\n",
      "3\n",
      "4\n",
      "5\n"
     ]
    }
   ],
   "source": [
    "#Q9. Write a recursive python function to print n natural number\n",
    "\n",
    "\n",
    "def natural(n, x=1): \n",
    "    print(x) \n",
    "    if x != n: \n",
    "\t    x += 1 \n",
    "\t    natural(n,x) \n",
    " \n",
    "if __name__ == \"__main__\": \n",
    "    natural(int(input(\"Enter N : \"))) \n",
    "\n"
   ]
  },
  {
   "cell_type": "code",
   "execution_count": null,
   "id": "f5a45a9e",
   "metadata": {},
   "outputs": [],
   "source": []
  }
 ],
 "metadata": {
  "kernelspec": {
   "display_name": "Python 3 (ipykernel)",
   "language": "python",
   "name": "python3"
  },
  "language_info": {
   "codemirror_mode": {
    "name": "ipython",
    "version": 3
   },
   "file_extension": ".py",
   "mimetype": "text/x-python",
   "name": "python",
   "nbconvert_exporter": "python",
   "pygments_lexer": "ipython3",
   "version": "3.9.12"
  }
 },
 "nbformat": 4,
 "nbformat_minor": 5
}
