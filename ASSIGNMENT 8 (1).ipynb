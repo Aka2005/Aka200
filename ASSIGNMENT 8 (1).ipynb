{
 "cells": [
  {
   "cell_type": "code",
   "execution_count": 1,
   "id": "f5107121",
   "metadata": {},
   "outputs": [
    {
     "name": "stdout",
     "output_type": "stream",
     "text": [
      "MySirG\n",
      "MySirG\n",
      "MySirG\n",
      "MySirG\n",
      "MySirG\n",
      "\n"
     ]
    }
   ],
   "source": [
    "#Q1.Write a pyhton script to print MySirG 5 times on the screen\n",
    "\n",
    "i = 1\n",
    "\n",
    "while i<=5:\n",
    "    print(\"MySirG\")\n",
    "    i+=1\n",
    "print()    \n"
   ]
  },
  {
   "cell_type": "code",
   "execution_count": 2,
   "id": "e017014e",
   "metadata": {},
   "outputs": [
    {
     "name": "stdout",
     "output_type": "stream",
     "text": [
      "10\n"
     ]
    }
   ],
   "source": [
    "#Q2. Write a python script to print first 10 natural numbers\n",
    "\n",
    "i = 10\n",
    "\n",
    "while i<=10:\n",
    "    print(i,end='')\n",
    "    i+=1\n",
    "    print()"
   ]
  },
  {
   "cell_type": "code",
   "execution_count": 3,
   "id": "084619a6",
   "metadata": {},
   "outputs": [
    {
     "name": "stdout",
     "output_type": "stream",
     "text": [
      "Enter a natural number9\n",
      "987654321"
     ]
    }
   ],
   "source": [
    "#Q3.Write a python script to print first 10 natural number in reverse order\n",
    "\n",
    "n = int(input(\"Enter a natural number\"))\n",
    "\n",
    "while n>=1:\n",
    "    print(n,end='')\n",
    "    n-=1"
   ]
  },
  {
   "cell_type": "code",
   "execution_count": 4,
   "id": "0bda4da6",
   "metadata": {},
   "outputs": [
    {
     "name": "stdout",
     "output_type": "stream",
     "text": [
      "1\n",
      "3\n",
      "5\n",
      "7\n",
      "9\n",
      "11\n",
      "13\n",
      "15\n",
      "17\n",
      "19\n"
     ]
    }
   ],
   "source": [
    "#Q4.Write a pyhton script to print first 10 odd natural number\n",
    "\n",
    "for i in range(1,20,2):\n",
    "    print(i)"
   ]
  },
  {
   "cell_type": "code",
   "execution_count": 5,
   "id": "27a19b6e",
   "metadata": {},
   "outputs": [
    {
     "name": "stdout",
     "output_type": "stream",
     "text": [
      "Enter a natural number10\n",
      "191715131197531"
     ]
    }
   ],
   "source": [
    "#Q5.Write a pyhton script to print first 10 odd natural number in reverse order\n",
    "\n",
    "n = int(input(\"Enter a natural number\"))\n",
    "\n",
    "for i in range(1,n+1):\n",
    "    print(2*n-2*i+1,end='')\n",
    "    "
   ]
  },
  {
   "cell_type": "code",
   "execution_count": 6,
   "id": "95ca2cb4",
   "metadata": {},
   "outputs": [
    {
     "name": "stdout",
     "output_type": "stream",
     "text": [
      "2\n",
      "4\n",
      "6\n",
      "8\n",
      "10\n",
      "12\n",
      "14\n",
      "16\n",
      "18\n"
     ]
    }
   ],
   "source": [
    "#Q6.Write a python script to print first 10 even natural number\n",
    "\n",
    "for i in range(2,20,2):\n",
    "    print(i)"
   ]
  },
  {
   "cell_type": "code",
   "execution_count": 8,
   "id": "a7e43308",
   "metadata": {},
   "outputs": [
    {
     "name": "stdout",
     "output_type": "stream",
     "text": [
      "Enter a natural number10\n",
      "2018161412108642"
     ]
    }
   ],
   "source": [
    "#Q7.Write a python  script to print first 10 even nummber in reverse order\n",
    "\n",
    "n = int(input(\"Enter a natural number\"))\n",
    "\n",
    "for i in range(1,n+1):\n",
    "    print(2*n+2-2*i,end='')"
   ]
  },
  {
   "cell_type": "code",
   "execution_count": 9,
   "id": "b6056027",
   "metadata": {},
   "outputs": [
    {
     "name": "stdout",
     "output_type": "stream",
     "text": [
      "Square of 1 is 1\n",
      "Square of 2 is 4\n",
      "Square of 3 is 9\n",
      "Square of 4 is 16\n",
      "Square of 5 is 25\n",
      "Square of 6 is 36\n",
      "Square of 7 is 49\n",
      "Square of 8 is 64\n",
      "Square of 9 is 81\n",
      "Square of 10 is 100\n"
     ]
    }
   ],
   "source": [
    "#Q8. Write a python script to print first squre 0f 10 natural number\n",
    "\n",
    "n = 1\n",
    "while n<=10:\n",
    "    print(\"Square of\",n,\"is\",n*n)\n",
    "    n=n+1"
   ]
  },
  {
   "cell_type": "code",
   "execution_count": 10,
   "id": "bd3a11fd",
   "metadata": {},
   "outputs": [
    {
     "name": "stdout",
     "output_type": "stream",
     "text": [
      "Enter a natural number10\n",
      "Sum of cube of first10 natural numbers are : 1\n",
      "Sum of cube of first10 natural numbers are : 9\n",
      "Sum of cube of first10 natural numbers are : 36\n",
      "Sum of cube of first10 natural numbers are : 100\n",
      "Sum of cube of first10 natural numbers are : 225\n",
      "Sum of cube of first10 natural numbers are : 441\n",
      "Sum of cube of first10 natural numbers are : 784\n",
      "Sum of cube of first10 natural numbers are : 1296\n",
      "Sum of cube of first10 natural numbers are : 2025\n",
      "Sum of cube of first10 natural numbers are : 3025\n"
     ]
    }
   ],
   "source": [
    "#Q9. Write a python script to print cubes of first 10 natural numbers\n",
    "\n",
    "\n",
    "n = int(input(\"Enter a natural number\"))\n",
    "\n",
    "sum2 = 0\n",
    "\n",
    "for i in range (1,n+1):\n",
    "    sum2=sum2+i*i*i\n",
    "    print(f\"Sum of cube of first{n} natural numbers are :\",sum2)"
   ]
  },
  {
   "cell_type": "code",
   "execution_count": 11,
   "id": "3abea501",
   "metadata": {},
   "outputs": [
    {
     "name": "stdout",
     "output_type": "stream",
     "text": [
      "Enter a natural number10\n",
      "10\n",
      "20\n",
      "60\n",
      "240\n",
      "1200\n",
      "7200\n",
      "50400\n",
      "403200\n",
      "3628800\n",
      "36288000\n"
     ]
    }
   ],
   "source": [
    "#Q10. Write a pyhton script to print 10 multiple of 5\n",
    "\n",
    "n = int(input(\"Enter a natural number\"))\n",
    "\n",
    "for i in range(1,11):\n",
    "    n=n*i\n",
    "    print(n)"
   ]
  },
  {
   "cell_type": "code",
   "execution_count": null,
   "id": "8ff71675",
   "metadata": {},
   "outputs": [],
   "source": []
  }
 ],
 "metadata": {
  "kernelspec": {
   "display_name": "Python 3 (ipykernel)",
   "language": "python",
   "name": "python3"
  },
  "language_info": {
   "codemirror_mode": {
    "name": "ipython",
    "version": 3
   },
   "file_extension": ".py",
   "mimetype": "text/x-python",
   "name": "python",
   "nbconvert_exporter": "python",
   "pygments_lexer": "ipython3",
   "version": "3.9.12"
  }
 },
 "nbformat": 4,
 "nbformat_minor": 5
}
