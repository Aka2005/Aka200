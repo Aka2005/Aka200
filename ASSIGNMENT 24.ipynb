{
 "cells": [
  {
   "cell_type": "code",
   "execution_count": 9,
   "id": "90c6f7ec",
   "metadata": {},
   "outputs": [
    {
     "name": "stdout",
     "output_type": "stream",
     "text": [
      "Name: Amar\n",
      "Age: 19\n",
      "Email: rajesh134@\n"
     ]
    }
   ],
   "source": [
    "#Q1.Write a python program to create a user class with 3 propeties : name,age,email\n",
    "\n",
    "\n",
    "def personal_details():\n",
    "    name, age = \"Amar\", 19\n",
    "    email = \"rajesh134@\"\n",
    "    print(\"Name: {}\\nAge: {}\\nEmail: {}\".format(name, age, email))\n",
    "personal_details()\n"
   ]
  },
  {
   "cell_type": "code",
   "execution_count": 10,
   "id": "0fa34ee5",
   "metadata": {},
   "outputs": [
    {
     "name": "stdout",
     "output_type": "stream",
     "text": [
      "10\n",
      "<function Person.greet at 0x0000022D771A10D0>\n",
      "This is a person class\n"
     ]
    }
   ],
   "source": [
    "#Q2.Write a python program to create a user class with a method to greet the user\n",
    "\n",
    "\n",
    "class Person:\n",
    "    \"This is a person class\"\n",
    "    age = 10\n",
    "\n",
    "    def greet(self):\n",
    "        print('Hello')\n",
    "\n",
    "\n",
    "\n",
    "print(Person.age)\n",
    "\n",
    "\n",
    "print(Person.greet)\n",
    "\n",
    "\n",
    "print(Person.__doc__)"
   ]
  },
  {
   "cell_type": "code",
   "execution_count": 11,
   "id": "653a9dce",
   "metadata": {},
   "outputs": [
    {
     "name": "stdout",
     "output_type": "stream",
     "text": [
      "mammal\n",
      "I'm a mammal\n",
      "I'm a dog\n"
     ]
    }
   ],
   "source": [
    "\n",
    "#Q3. Write a python program to create 2 object of the user class and assign different values\n",
    "\n",
    "class Dog:\n",
    " \n",
    "    \n",
    "    attr1 = \"mammal\"\n",
    "    attr2 = \"dog\"\n",
    " \n",
    "    \n",
    "    def fun(self):\n",
    "        print(\"I'm a\", self.attr1)\n",
    "        print(\"I'm a\", self.attr2)\n",
    " \n",
    " \n",
    "Rodger = Dog()\n",
    " \n",
    "\n",
    "print(Rodger.attr1)\n",
    "Rodger.fun()\n",
    "\n",
    "\n"
   ]
  },
  {
   "cell_type": "code",
   "execution_count": 20,
   "id": "e213f828",
   "metadata": {},
   "outputs": [
    {
     "name": "stdout",
     "output_type": "stream",
     "text": [
      "The largest number is 14\n"
     ]
    }
   ],
   "source": [
    "#Q4.Write a python program to create 3 user object and find the youngest of all\n",
    "\n",
    "num1 = 10\n",
    "num2 = 14\n",
    "num3 = 12\n",
    "\n",
    "\n",
    "\n",
    "if (num1 >= num2) and (num1 >= num3):\n",
    "   largest = num1\n",
    "elif (num2 >= num1) and (num2 >= num3):\n",
    "   largest = num2\n",
    "else:\n",
    "   largest = num3\n",
    "\n",
    "print(\"The largest number is\", largest)\n",
    "\n",
    "\n"
   ]
  },
  {
   "cell_type": "code",
   "execution_count": 21,
   "id": "f3dfc1cf",
   "metadata": {},
   "outputs": [
    {
     "name": "stdout",
     "output_type": "stream",
     "text": [
      "Hello, my name is Nikhil\n"
     ]
    }
   ],
   "source": [
    "#Q5. Write a python program to init default values for user object using_init_method\n",
    "\n",
    "class Person:\n",
    " \n",
    "    def __init__(self, name):\n",
    "        self.name = name\n",
    " \n",
    "    def say_hi(self):\n",
    "        print('Hello, my name is', self.name)\n",
    " \n",
    " \n",
    "p = Person('Nikhil')\n",
    "p.say_hi()"
   ]
  },
  {
   "cell_type": "code",
   "execution_count": 22,
   "id": "79041897",
   "metadata": {},
   "outputs": [
    {
     "name": "stdout",
     "output_type": "stream",
     "text": [
      "<class '__main__.Age'>\n"
     ]
    }
   ],
   "source": [
    "#Q6. Write a python program to delete a  age property of the user \n",
    "\n",
    "\n",
    "class Age:\n",
    "    age = 20\n",
    "    def func(self):\n",
    "        print('Hello')\n",
    "\n",
    "# Output: \n",
    "print(Age)\n",
    "\n",
    "# deleting Age\n",
    "del Age"
   ]
  },
  {
   "cell_type": "code",
   "execution_count": 24,
   "id": "25e0e85c",
   "metadata": {},
   "outputs": [
    {
     "name": "stdout",
     "output_type": "stream",
     "text": [
      "Sumit 10 ABC School \n",
      "Anil 20 ABC School \n"
     ]
    }
   ],
   "source": [
    "#Q7. Write a python program to create a school class and instance variable and 1 class variable\n",
    "\n",
    "class Student:\n",
    "    \n",
    "    school_name = 'ABC School '\n",
    "    \n",
    "    def __init__(self, name, roll_no):\n",
    "        self.name = name\n",
    "        self.roll_no = roll_no\n",
    "s1 = Student('Sumit', 10)\n",
    "print(s1.name, s1.roll_no, Student.school_name)\n",
    "\n",
    "s2 = Student('Anil', 20)\n",
    "\n",
    "print(s2.name, s2.roll_no, Student.school_name)\n",
    "\n",
    "\n",
    "\n"
   ]
  }
 ],
 "metadata": {
  "kernelspec": {
   "display_name": "Python 3 (ipykernel)",
   "language": "python",
   "name": "python3"
  },
  "language_info": {
   "codemirror_mode": {
    "name": "ipython",
    "version": 3
   },
   "file_extension": ".py",
   "mimetype": "text/x-python",
   "name": "python",
   "nbconvert_exporter": "python",
   "pygments_lexer": "ipython3",
   "version": "3.9.12"
  }
 },
 "nbformat": 4,
 "nbformat_minor": 5
}
