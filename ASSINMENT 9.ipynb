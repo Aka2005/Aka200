{
 "cells": [
  {
   "cell_type": "code",
   "execution_count": 2,
   "id": "b773df1c",
   "metadata": {},
   "outputs": [
    {
     "name": "stdout",
     "output_type": "stream",
     "text": [
      "MySirG\n"
     ]
    }
   ],
   "source": [
    "#Q1. Write a python script to print my sirg N times\n",
    "\n",
    "i = 1\n",
    "\n",
    "a = (\"MySirG\")\n",
    "print(a*i)"
   ]
  },
  {
   "cell_type": "code",
   "execution_count": 3,
   "id": "9c0c97cb",
   "metadata": {},
   "outputs": [
    {
     "name": "stdout",
     "output_type": "stream",
     "text": [
      "Enter a number6\n",
      "1 2 3 4 5 "
     ]
    }
   ],
   "source": [
    "#Q2. Write a python script to print n natural number\n",
    "\n",
    "n = int(input(\"Enter a number\"))\n",
    "\n",
    "i = 1\n",
    "while i<n:\n",
    "    print(i,end=' ')\n",
    "    i+=1"
   ]
  },
  {
   "cell_type": "code",
   "execution_count": 4,
   "id": "b9b11609",
   "metadata": {},
   "outputs": [
    {
     "name": "stdout",
     "output_type": "stream",
     "text": [
      "Enter a number7\n",
      "7 6 5 4 3 2 1 "
     ]
    }
   ],
   "source": [
    "#Q3. Write a python script to print n natural number in reverse order\n",
    "\n",
    "n = int(input(\"Enter a number\"))\n",
    "\n",
    "i = 1\n",
    "while i<=n:\n",
    "    print(n-i+1,end=' ')\n",
    "    i+=1"
   ]
  },
  {
   "cell_type": "code",
   "execution_count": 9,
   "id": "3fa10fb1",
   "metadata": {},
   "outputs": [
    {
     "name": "stdout",
     "output_type": "stream",
     "text": [
      "Enter a lower limit for range1\n",
      "Enter a upper limit for range15\n",
      "1\n",
      "3\n",
      "5\n",
      "7\n",
      "9\n",
      "11\n",
      "13\n",
      "15\n"
     ]
    }
   ],
   "source": [
    "#Q4. Write a python script to print first n odd natural number\n",
    "\n",
    "lower = int(input(\"Enter a lower limit for range\"))\n",
    "upper = int(input(\"Enter a upper limit for range\"))  \n",
    "\n",
    "for i in range (lower ,upper+1):\n",
    "        if(i%2!=0):\n",
    "            print(i)"
   ]
  },
  {
   "cell_type": "code",
   "execution_count": 10,
   "id": "3bbd3b18",
   "metadata": {},
   "outputs": [
    {
     "name": "stdout",
     "output_type": "stream",
     "text": [
      "Enter a number15\n",
      "29 27 25 23 21 19 17 15 13 11 9 7 5 3 1 "
     ]
    }
   ],
   "source": [
    "#Q5.Write a python script to print N odd number in reverse order\n",
    "\n",
    "n = int(input(\"Enter a number\"))\n",
    "\n",
    "while n>=1:\n",
    "    print((2*n-1),end=' ')\n",
    "    n = n-1\n"
   ]
  },
  {
   "cell_type": "code",
   "execution_count": 15,
   "id": "6db73894",
   "metadata": {},
   "outputs": [
    {
     "name": "stdout",
     "output_type": "stream",
     "text": [
      "Enter a number5\n",
      "10 8 6 4 2 "
     ]
    }
   ],
   "source": [
    "#Q6.Write a python script to print N even natural number reverse order\n",
    "\n",
    "n = int(input(\"Enter a number\"))\n",
    "\n",
    "for i in range (1,n+1):\n",
    "    print(2*n+2-2*i,end=' ')\n",
    "    "
   ]
  },
  {
   "cell_type": "code",
   "execution_count": 16,
   "id": "f9e1f9c5",
   "metadata": {},
   "outputs": [
    {
     "name": "stdout",
     "output_type": "stream",
     "text": [
      "Enter value of N: 10\n",
      "Sum of squares =  385\n"
     ]
    }
   ],
   "source": [
    "#Q7. Write a python script to print squre of first n natural number\n",
    "N = int(input(\"Enter value of N: \"))\n",
    "\n",
    "# calculating sum of square \n",
    "sumVal = 0\n",
    "for i in range(1, N+1):\n",
    "    sumVal += (i*i)\n",
    "\n",
    "print(\"Sum of squares = \", sumVal)\n"
   ]
  },
  {
   "cell_type": "code",
   "execution_count": null,
   "id": "8445c5a3",
   "metadata": {},
   "outputs": [],
   "source": []
  }
 ],
 "metadata": {
  "kernelspec": {
   "display_name": "Python 3 (ipykernel)",
   "language": "python",
   "name": "python3"
  },
  "language_info": {
   "codemirror_mode": {
    "name": "ipython",
    "version": 3
   },
   "file_extension": ".py",
   "mimetype": "text/x-python",
   "name": "python",
   "nbconvert_exporter": "python",
   "pygments_lexer": "ipython3",
   "version": "3.9.12"
  }
 },
 "nbformat": 4,
 "nbformat_minor": 5
}
