{
 "cells": [
  {
   "cell_type": "code",
   "execution_count": 1,
   "id": "3f88e7c9",
   "metadata": {},
   "outputs": [
    {
     "name": "stdout",
     "output_type": "stream",
     "text": [
      "Enter a number2543\n",
      "New value of a number: \n",
      "254.3\n"
     ]
    }
   ],
   "source": [
    "#Q1. Write a python script to remove the last digit from  a given number (for example 2543)\n",
    "\n",
    "number = int(input(\"Enter a number\"))\n",
    "\n",
    "number = 2543\n",
    "\n",
    "number =int(number)/10\n",
    "print(\"New value of a number: \")\n",
    "print(number)\n",
    "\n"
   ]
  },
  {
   "cell_type": "code",
   "execution_count": 2,
   "id": "efd955bc",
   "metadata": {},
   "outputs": [
    {
     "name": "stdout",
     "output_type": "stream",
     "text": [
      "Enter a number2089\n",
      "New value of a number\n",
      "9\n"
     ]
    }
   ],
   "source": [
    "#Q2. Write a python script to get the last digit from a given number(for example 2089 and give 9)\n",
    "\n",
    "number = int(input(\"Enter a number\"))\n",
    "\n",
    "number = 2089\n",
    "\n",
    "number = int(number)%10\n",
    "\n",
    "print(\"New value of a number\")\n",
    "print(number)"
   ]
  },
  {
   "cell_type": "code",
   "execution_count": 3,
   "id": "181785e0",
   "metadata": {},
   "outputs": [
    {
     "name": "stdout",
     "output_type": "stream",
     "text": [
      "Enter a number:10\n",
      "Enter a number:20\n",
      "New value of a number_1:\n",
      "20\n",
      "New value of a number_2:\n",
      "10\n"
     ]
    }
   ],
   "source": [
    "#Q3. Write a python script to swap data of two variables\n",
    "\n",
    "number_1 = int(input(\"Enter a number:\"))\n",
    "\n",
    "number_2 = int(input(\"Enter a number:\"))\n",
    "\n",
    "number_1 =10\n",
    "number_2 = 20\n",
    "\n",
    "numer_1,number_2 = number_2,number_1\n",
    "\n",
    "print(\"New value of a number_1:\")\n",
    "print(number_1)\n",
    "print(\"New value of a number_2:\")\n",
    "print(number_2)\n"
   ]
  },
  {
   "cell_type": "code",
   "execution_count": 6,
   "id": "43c93709",
   "metadata": {},
   "outputs": [
    {
     "name": "stdout",
     "output_type": "stream",
     "text": [
      "Enter a number2\n",
      "Enter a number3\n",
      "8\n"
     ]
    }
   ],
   "source": [
    "#Q4. Write a python scrippt to find x power y where values of x and y are given by user\n",
    "\n",
    "number =int(input(\"Enter a number\"))\n",
    "power = int(input(\"Enter a number\"))\n",
    "\n",
    "answer = number**power\n",
    "print(answer)"
   ]
  },
  {
   "cell_type": "code",
   "execution_count": 8,
   "id": "1d8a22a3",
   "metadata": {},
   "outputs": [
    {
     "name": "stdout",
     "output_type": "stream",
     "text": [
      "Enter a number253\n",
      "2\n"
     ]
    }
   ],
   "source": [
    "#Q5. Write a python script to which take a three digit number from the user and display only the first digit\n",
    "\n",
    "number = int(input(\"Enter a number\"))\n",
    "\n",
    "answer = int(number/100)\n",
    "print(answer)\n"
   ]
  },
  {
   "cell_type": "code",
   "execution_count": 16,
   "id": "657d4563",
   "metadata": {},
   "outputs": [
    {
     "name": "stdout",
     "output_type": "stream",
     "text": [
      "Enter a digit number234\n",
      "3\n"
     ]
    }
   ],
   "source": [
    "#Q6. Write a python script to which take a three digit number from user and display only the middle digit\n",
    "\n",
    "import math\n",
    "number =int(input(\"Enter a digit number\"))\n",
    "\n",
    "answer = ((number)%100)//10\n",
    "\n",
    "print(answer)\n"
   ]
  },
  {
   "cell_type": "code",
   "execution_count": 18,
   "id": "e72c1f11",
   "metadata": {},
   "outputs": [
    {
     "name": "stdout",
     "output_type": "stream",
     "text": [
      "Enter a digit number234\n",
      "4\n"
     ]
    }
   ],
   "source": [
    "#Q7.Write a python script to which take a three digit number from user and display only the last digit\n",
    "\n",
    "\n",
    "number =int(input(\"Enter a digit number\"))\n",
    "\n",
    "answer = (number)%10\n",
    "\n",
    "print(answer)"
   ]
  },
  {
   "cell_type": "code",
   "execution_count": 20,
   "id": "08c1213c",
   "metadata": {},
   "outputs": [
    {
     "name": "stdout",
     "output_type": "stream",
     "text": [
      "Enter Number:7\n",
      "False\n"
     ]
    }
   ],
   "source": [
    "#Q8. Write a python script to use IN oprator to display the data presnet in the list\n",
    "\n",
    "number = int(input(\"Enter Number:\"))\n",
    "list_1  =[1,4,5,6,10]\n",
    "\n",
    "print(number in list_1)"
   ]
  },
  {
   "cell_type": "code",
   "execution_count": 21,
   "id": "2a0ed913",
   "metadata": {},
   "outputs": [
    {
     "name": "stdout",
     "output_type": "stream",
     "text": [
      "Enter Number5\n",
      "True\n"
     ]
    }
   ],
   "source": [
    "#Q9.Write a python script to use NOT oprator to display the data present in the list\n",
    "\n",
    "number = int(input(\"Enter Number\"))\n",
    "\n",
    "list_1 =[1,4,5,6,7]\n",
    "\n",
    "print(number in list_1)"
   ]
  },
  {
   "cell_type": "code",
   "execution_count": 22,
   "id": "851ecf44",
   "metadata": {},
   "outputs": [
    {
     "name": "stdout",
     "output_type": "stream",
     "text": [
      "True\n"
     ]
    }
   ],
   "source": [
    "#Q10.Write a python script to use IS oprator to display if both variables are the same object or not\n",
    "\n",
    "list_1 = [1,2,3,4,5]\n",
    "\n",
    "list_2 = [1,2,3,4,5]\n",
    "\n",
    "print(list_1 == list_2)"
   ]
  },
  {
   "cell_type": "code",
   "execution_count": null,
   "id": "2491bff4",
   "metadata": {},
   "outputs": [],
   "source": []
  }
 ],
 "metadata": {
  "kernelspec": {
   "display_name": "Python 3 (ipykernel)",
   "language": "python",
   "name": "python3"
  },
  "language_info": {
   "codemirror_mode": {
    "name": "ipython",
    "version": 3
   },
   "file_extension": ".py",
   "mimetype": "text/x-python",
   "name": "python",
   "nbconvert_exporter": "python",
   "pygments_lexer": "ipython3",
   "version": "3.9.12"
  }
 },
 "nbformat": 4,
 "nbformat_minor": 5
}
