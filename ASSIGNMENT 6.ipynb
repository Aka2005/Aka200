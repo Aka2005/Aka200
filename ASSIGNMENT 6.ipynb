{
 "cells": [
  {
   "cell_type": "code",
   "execution_count": 2,
   "id": "2d2a2a82",
   "metadata": {},
   "outputs": [
    {
     "name": "stdout",
     "output_type": "stream",
     "text": [
      "Enter a number :-10\n",
      "-10 is a negtive number \n"
     ]
    }
   ],
   "source": [
    "#Q1. Write a pyhton script to check wheter a given number is postive or non postive\n",
    "\n",
    "n = int(input(\"Enter a number :\"))\n",
    "\n",
    "if n>0:\n",
    "\n",
    "    print(n,\"is a postive number\")\n",
    "\n",
    "elif n<0:\n",
    "    \n",
    "    print(n,\"is a negtive number \")\n",
    "\n"
   ]
  },
  {
   "cell_type": "code",
   "execution_count": 3,
   "id": "d338ab53",
   "metadata": {},
   "outputs": [
    {
     "name": "stdout",
     "output_type": "stream",
     "text": [
      "Enter a number :46\n",
      "46 is not divisible by 5\n"
     ]
    }
   ],
   "source": [
    "#Q2. Write a pyhton script to check a wheter a given number is divisible by 5\n",
    "\n",
    "x = int(input(\"Enter a number :\"))\n",
    "\n",
    "if x%5==0:\n",
    "    print(\"%d is divisible by 5\"%x)\n",
    "else:\n",
    "    print(\"%d is not divisible by 5\"%x)"
   ]
  },
  {
   "cell_type": "code",
   "execution_count": 5,
   "id": "97fdd916",
   "metadata": {},
   "outputs": [
    {
     "name": "stdout",
     "output_type": "stream",
     "text": [
      "Enter a number :2\n",
      "2 is Even\n"
     ]
    }
   ],
   "source": [
    "#Q3.Write a python script to check wheter a given number is even or odd\n",
    "\n",
    "x = int(input(\"Enter a number :\"))\n",
    "\n",
    "if x%2==0:\n",
    "    print(x,\"is Even\")\n",
    "else:\n",
    "    print(x,\"is Odd\")"
   ]
  },
  {
   "cell_type": "code",
   "execution_count": 6,
   "id": "3df460f7",
   "metadata": {},
   "outputs": [
    {
     "name": "stdout",
     "output_type": "stream",
     "text": [
      "Enter a number :5\n",
      "5 is Odd\n"
     ]
    }
   ],
   "source": [
    "#Q3.Write a python script to check wheter a given number is even or odd\n",
    "\n",
    "x = int(input(\"Enter a number :\"))\n",
    "\n",
    "if x%2==0:\n",
    "    print(x,\"is Even\")\n",
    "else:\n",
    "    print(x,\"is Odd\")"
   ]
  },
  {
   "cell_type": "code",
   "execution_count": 7,
   "id": "4bb0d3e3",
   "metadata": {},
   "outputs": [
    {
     "name": "stdout",
     "output_type": "stream",
     "text": [
      "Enter two number\n",
      "10\n",
      "10\n",
      "10\n"
     ]
    }
   ],
   "source": [
    "#Q4.Write a python script to print greather between two numbers.Print number only once even if the number are the same\n",
    "\n",
    "print(\"Enter two number\")\n",
    "a,b = int(input())\n",
    "a,b = int(input())\n",
    "print(a if a>b else b)"
   ]
  },
  {
   "cell_type": "code",
   "execution_count": 9,
   "id": "bceab034",
   "metadata": {},
   "outputs": [
    {
     "name": "stdout",
     "output_type": "stream",
     "text": [
      "Enter two words\n",
      "mumbai\n",
      "rajkot\n"
     ]
    },
    {
     "data": {
      "text/plain": [
       "('mumbai', 'rajkot')"
      ]
     },
     "execution_count": 9,
     "metadata": {},
     "output_type": "execute_result"
    }
   ],
   "source": [
    "#Q5. Write a python script to print two given words in dictionary order\n",
    "\n",
    "print(\"Enter two words\")\n",
    "\n",
    "a,b =input(),input()\n",
    "print(b,a) if a>b else(a,b)"
   ]
  },
  {
   "cell_type": "code",
   "execution_count": 10,
   "id": "0b4cc641",
   "metadata": {},
   "outputs": [
    {
     "name": "stdout",
     "output_type": "stream",
     "text": [
      "Enter a  number365\n",
      "Three digit number\n"
     ]
    }
   ],
   "source": [
    "#Q6. Write a python script to check whether a given number is a three digit number or not\n",
    "\n",
    "x = int(input(\"Enter a  number\"))\n",
    "if 99<x<1000:\n",
    "    print(\"Three digit number\")\n",
    "else:\n",
    "    print(\"Not a three digit number\")"
   ]
  },
  {
   "cell_type": "code",
   "execution_count": 12,
   "id": "c9d5834c",
   "metadata": {},
   "outputs": [
    {
     "name": "stdout",
     "output_type": "stream",
     "text": [
      "Enter a number5\n",
      "Postive\n"
     ]
    }
   ],
   "source": [
    "#Q7.Write a python script to check wheter is given number is postive ,negtive or zero\n",
    "\n",
    "x = int(input(\"Enter a number\"))\n",
    "if x>0:\n",
    "    print(\"Postive\")\n",
    "elif x<0:\n",
    "    print(\"Negtive\")\n",
    "else:\n",
    "    pritn(\"Zero\")"
   ]
  },
  {
   "cell_type": "code",
   "execution_count": 15,
   "id": "ea8d1b11",
   "metadata": {},
   "outputs": [
    {
     "name": "stdout",
     "output_type": "stream",
     "text": [
      "Enter a number-5\n",
      "Negtive\n"
     ]
    }
   ],
   "source": [
    "x = int(input(\"Enter a number\"))\n",
    "if x>0:\n",
    "    print(\"Postive\")\n",
    "elif x<0:\n",
    "    print(\"Negtive\")\n",
    "else:\n",
    "    print(\"Zero\")"
   ]
  },
  {
   "cell_type": "code",
   "execution_count": 16,
   "id": "5be70b76",
   "metadata": {},
   "outputs": [
    {
     "name": "stdout",
     "output_type": "stream",
     "text": [
      "Enter a number0\n",
      "Zero\n"
     ]
    }
   ],
   "source": [
    "x = int(input(\"Enter a number\"))\n",
    "if x>0:\n",
    "    print(\"Postive\")\n",
    "elif x<0:\n",
    "    print(\"Negtive\")\n",
    "else:\n",
    "    print(\"Zero\")"
   ]
  },
  {
   "cell_type": "code",
   "execution_count": 17,
   "id": "33786f05",
   "metadata": {},
   "outputs": [
    {
     "name": "stdout",
     "output_type": "stream",
     "text": [
      "Enter value of a,b and c of a quadratic eqution:\n",
      "2\n",
      "5\n",
      "3\n",
      "Real and distinct roots\n"
     ]
    }
   ],
   "source": [
    "#Q8. Write a python script to check wheter to a given quartic equation has two real and distinct roots, realand equalroots or imaginary roots\n",
    "\n",
    "print(\"Enter value of a,b and c of a quadratic eqution:\")\n",
    "\n",
    "a,b,c = int(input()),int(input()),int(input())\n",
    "\n",
    "d = b**2-4*a*c\n",
    "\n",
    "if d>0:\n",
    "    print(\"Real and distinct roots\")\n",
    "\n",
    "elif d==0:\n",
    "    print(\"Real and equal roots\")\n",
    "    \n",
    "else:\n",
    "    print(\"Imaginary roots\")\n",
    "    "
   ]
  },
  {
   "cell_type": "code",
   "execution_count": 18,
   "id": "af05dd21",
   "metadata": {},
   "outputs": [
    {
     "name": "stdout",
     "output_type": "stream",
     "text": [
      "Enter value of a,b and c of a quadratic eqution:\n",
      "2\n",
      "2\n",
      "5\n",
      "Imaginary roots\n"
     ]
    }
   ],
   "source": [
    "print(\"Enter value of a,b and c of a quadratic eqution:\")\n",
    "\n",
    "a,b,c = int(input()),int(input()),int(input())\n",
    "\n",
    "d = b**2-4*a*c\n",
    "\n",
    "if d>0:\n",
    "    print(\"Real and distinct roots\")\n",
    "\n",
    "elif d==0:\n",
    "    print(\"Real and equal roots\")\n",
    "    \n",
    "else:\n",
    "    print(\"Imaginary roots\")"
   ]
  },
  {
   "cell_type": "code",
   "execution_count": 20,
   "id": "bd943d63",
   "metadata": {},
   "outputs": [
    {
     "name": "stdout",
     "output_type": "stream",
     "text": [
      "Enter year number\n",
      "1900\n",
      "Non leap Year\n"
     ]
    }
   ],
   "source": [
    "#Q9.Write a pyhton script to check the whter leap year or not.\n",
    "\n",
    "print(\"Enter year number\")\n",
    "\n",
    "year = int(input())\n",
    "\n",
    "if year%400==0 or year%100!=0 and year%4==0:\n",
    "        \n",
    "    print(\"Leap year\")\n",
    "else :\n",
    "    print(\"Non leap Year\")\n",
    "    \n",
    "   "
   ]
  },
  {
   "cell_type": "code",
   "execution_count": 21,
   "id": "3fe8d708",
   "metadata": {},
   "outputs": [
    {
     "name": "stdout",
     "output_type": "stream",
     "text": [
      "Enter year number\n",
      "2020\n",
      "Leap year\n"
     ]
    }
   ],
   "source": [
    "print(\"Enter year number\")\n",
    "\n",
    "year = int(input())\n",
    "\n",
    "if year%400==0 or year%100!=0 and year%4==0:\n",
    "        \n",
    "    print(\"Leap year\")\n",
    "else :\n",
    "    print(\"Non leap Year\")"
   ]
  },
  {
   "cell_type": "code",
   "execution_count": null,
   "id": "180bece9",
   "metadata": {},
   "outputs": [],
   "source": []
  }
 ],
 "metadata": {
  "kernelspec": {
   "display_name": "Python 3 (ipykernel)",
   "language": "python",
   "name": "python3"
  },
  "language_info": {
   "codemirror_mode": {
    "name": "ipython",
    "version": 3
   },
   "file_extension": ".py",
   "mimetype": "text/x-python",
   "name": "python",
   "nbconvert_exporter": "python",
   "pygments_lexer": "ipython3",
   "version": "3.9.12"
  }
 },
 "nbformat": 4,
 "nbformat_minor": 5
}
