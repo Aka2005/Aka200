{
 "cells": [
  {
   "cell_type": "code",
   "execution_count": 2,
   "id": "5d13b0b8",
   "metadata": {},
   "outputs": [
    {
     "name": "stdout",
     "output_type": "stream",
     "text": [
      "MySirG\n"
     ]
    }
   ],
   "source": [
    "#Q1. Write a python script to print MysirG N times on the screen\n",
    "\n",
    "i = 1\n",
    "\n",
    "a = (\"MySirG\")\n",
    "\n",
    "print(a*i)"
   ]
  },
  {
   "cell_type": "code",
   "execution_count": 3,
   "id": "28efc357",
   "metadata": {},
   "outputs": [
    {
     "name": "stdout",
     "output_type": "stream",
     "text": [
      "Enter a number8\n",
      "1 2 3 4 5 6 7 "
     ]
    }
   ],
   "source": [
    "#Q2.Write a python script to print first N natural numbers\n",
    "\n",
    "n = int(input(\"Enter a number\"))\n",
    "\n",
    "i = 1\n",
    "while i<n:\n",
    "    print(i,end=' ')\n",
    "    i+=1"
   ]
  },
  {
   "cell_type": "code",
   "execution_count": 4,
   "id": "bc931149",
   "metadata": {},
   "outputs": [
    {
     "name": "stdout",
     "output_type": "stream",
     "text": [
      "Enter a number8\n",
      "8 7 6 5 4 3 2 1 "
     ]
    }
   ],
   "source": [
    "#Q3.Write a python script to print first N natural numbers in reverse order\n",
    "\n",
    "\n",
    "n = int(input(\"Enter a number\"))\n",
    "\n",
    "i = 1\n",
    "while i<=n:\n",
    "    print(n-i+1,end=' ')\n",
    "    i+=1"
   ]
  },
  {
   "cell_type": "code",
   "execution_count": 5,
   "id": "3386a07f",
   "metadata": {},
   "outputs": [
    {
     "name": "stdout",
     "output_type": "stream",
     "text": [
      "Enter a number9\n",
      "1 3 5 7 9 11 13 15 17 "
     ]
    }
   ],
   "source": [
    "#Q4 Write a python script to print first N odd natural numbers\n",
    "\n",
    "n = int(input(\"Enter a number\"))\n",
    "\n",
    "for i in range (1,n+1):\n",
    "    print((2*i-1),end=' ')"
   ]
  },
  {
   "cell_type": "code",
   "execution_count": 6,
   "id": "4f276967",
   "metadata": {},
   "outputs": [
    {
     "name": "stdout",
     "output_type": "stream",
     "text": [
      "Enter a number6\n",
      "11 9 7 5 3 1 "
     ]
    }
   ],
   "source": [
    "#Q5. Write a python script to print first n odd number in reverse order\n",
    "\n",
    "n = int(input(\"Enter a number\"))\n",
    "\n",
    "for i in range(1,n+1):\n",
    "    print(2*n-2*i+1,end=' ')"
   ]
  },
  {
   "cell_type": "code",
   "execution_count": 8,
   "id": "90b82797",
   "metadata": {},
   "outputs": [
    {
     "name": "stdout",
     "output_type": "stream",
     "text": [
      "Enter a number8\n",
      "2\n",
      "4\n",
      "6\n",
      "8\n",
      "10\n",
      "12\n",
      "14\n",
      "16\n"
     ]
    }
   ],
   "source": [
    "#Q6. Write a python to print first n even number\n",
    "n = int(input(\"Enter a number\"))\n",
    "\n",
    "for n in range (2,n*2+1,2):\n",
    "    print (n)"
   ]
  },
  {
   "cell_type": "code",
   "execution_count": 9,
   "id": "3bfa2222",
   "metadata": {},
   "outputs": [
    {
     "name": "stdout",
     "output_type": "stream",
     "text": [
      "Enter a number8\n",
      "16 14 12 10 8 6 4 2 "
     ]
    }
   ],
   "source": [
    "#Q7. Write a python script to print first n even number  in reverse order\n",
    " \n",
    "n = int(input(\"Enter a number\"))\n",
    "for i in range(1,n+1):\n",
    "    print(2*n+2-2*i,end=' ')"
   ]
  },
  {
   "cell_type": "code",
   "execution_count": 11,
   "id": "8387dda4",
   "metadata": {},
   "outputs": [
    {
     "name": "stdout",
     "output_type": "stream",
     "text": [
      "Enter a  number6\n",
      "21\n"
     ]
    }
   ],
   "source": [
    "#Q8. Write a python script to print square  of first n natural number\n",
    "\n",
    "n = int(input(\"Enter a  number\"))\n",
    "\n",
    "n = n*(n+1)/2\n",
    "print(int(n))"
   ]
  },
  {
   "cell_type": "code",
   "execution_count": 12,
   "id": "df720e0e",
   "metadata": {},
   "outputs": [
    {
     "name": "stdout",
     "output_type": "stream",
     "text": [
      "Enter a number6\n",
      "Sum of cubes of first 6 natural numbers: 0\n",
      "Sum of cubes of first 6 natural numbers: 3\n",
      "Sum of cubes of first 6 natural numbers: 9\n",
      "Sum of cubes of first 6 natural numbers: 18\n",
      "Sum of cubes of first 6 natural numbers: 30\n",
      "Sum of cubes of first 6 natural numbers: 45\n",
      "Sum of cubes of first 6 natural numbers: 63\n"
     ]
    }
   ],
   "source": [
    "#Q9.Write a python script to print cubes of first n natural number\n",
    "\n",
    "\n",
    "n = int(input(\"Enter a number\"))\n",
    "\n",
    "sum = 0\n",
    "for i in range (n+1):\n",
    "    sum+=i*3\n",
    "    print(\"Sum of cubes of first {} natural numbers:\".format(n),sum)\n",
    "\n"
   ]
  },
  {
   "cell_type": "code",
   "execution_count": null,
   "id": "6146b840",
   "metadata": {},
   "outputs": [],
   "source": []
  }
 ],
 "metadata": {
  "kernelspec": {
   "display_name": "Python 3 (ipykernel)",
   "language": "python",
   "name": "python3"
  },
  "language_info": {
   "codemirror_mode": {
    "name": "ipython",
    "version": 3
   },
   "file_extension": ".py",
   "mimetype": "text/x-python",
   "name": "python",
   "nbconvert_exporter": "python",
   "pygments_lexer": "ipython3",
   "version": "3.9.12"
  }
 },
 "nbformat": 4,
 "nbformat_minor": 5
}
