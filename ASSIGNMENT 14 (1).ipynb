{
 "cells": [
  {
   "cell_type": "code",
   "execution_count": 1,
   "id": "5a3aebbf",
   "metadata": {},
   "outputs": [
    {
     "name": "stdout",
     "output_type": "stream",
     "text": [
      "Please Enter any Number: 10\n",
      "The List of Natural Numbers from 1 to 10 are\n",
      "1  2  3  4  5  6  7  8  9  10  "
     ]
    }
   ],
   "source": [
    "#Q1. Write a python script to create a list of first n natural number\n",
    "\n",
    "\n",
    "\n",
    "number = int(input(\"Please Enter any Number: \"))\n",
    "\n",
    "print(\"The List of Natural Numbers from 1 to {0} are\".format(number)) \n",
    "\n",
    "for i in range(1, number + 1):\n",
    "    print (i, end = '  ')"
   ]
  },
  {
   "cell_type": "code",
   "execution_count": 2,
   "id": "2e18e091",
   "metadata": {},
   "outputs": [
    {
     "name": "stdout",
     "output_type": "stream",
     "text": [
      "21 45 93 "
     ]
    }
   ],
   "source": [
    "#Q2.Write a python script to create a list of first of n odd natural number\n",
    "\n",
    "\n",
    "\n",
    "list1 = [10, 21, 4, 45, 66, 93]\n",
    " \n",
    "\n",
    "for num in list1:\n",
    "     \n",
    "    \n",
    "    if num % 2 != 0:\n",
    "       print(num, end = \" \")"
   ]
  },
  {
   "cell_type": "code",
   "execution_count": 3,
   "id": "25a4ff02",
   "metadata": {},
   "outputs": [
    {
     "name": "stdout",
     "output_type": "stream",
     "text": [
      "10 4 66 "
     ]
    }
   ],
   "source": [
    "#Q3.Write a python script to create a list of first n even number\n",
    "\n",
    "list1 = [10, 21, 4, 45, 66, 93]\n",
    " \n",
    "\n",
    "for num in list1:\n",
    " \n",
    "    \n",
    "    if num % 2 == 0:\n",
    "        print(num, end=\" \")\n"
   ]
  },
  {
   "cell_type": "code",
   "execution_count": 17,
   "id": "07fffca7",
   "metadata": {},
   "outputs": [
    {
     "name": "stdout",
     "output_type": "stream",
     "text": [
      "99\n"
     ]
    }
   ],
   "source": [
    "#Q4. Write  a python script to find the greatest number in a given list of number\n",
    "\n",
    "list1 = [10, 20, 4, 45, 99]\n",
    " \n",
    "maximum = max(list1)\n",
    "print(maximum)"
   ]
  },
  {
   "cell_type": "code",
   "execution_count": 18,
   "id": "8c2590a6",
   "metadata": {},
   "outputs": [
    {
     "name": "stdout",
     "output_type": "stream",
     "text": [
      "10\n"
     ]
    }
   ],
   "source": [
    "#Q5.Write a python script to find the smallest number in a given list of number\n",
    "\n",
    "list2 = [10,20,40,50]\n",
    "\n",
    "minimum = min(list2)\n",
    "print(minimum)\n"
   ]
  },
  {
   "cell_type": "code",
   "execution_count": 13,
   "id": "358a813f",
   "metadata": {},
   "outputs": [
    {
     "name": "stdout",
     "output_type": "stream",
     "text": [
      "Sum of the array is  15\n"
     ]
    }
   ],
   "source": [
    "#Q6.Write a python script to find the sum of element of a given in a list of number\n",
    "\n",
    "arr = [1,2,3,4,5]\n",
    "ans = sum(arr)\n",
    "print ('Sum of the array is ',ans)\n",
    "\n"
   ]
  },
  {
   "cell_type": "code",
   "execution_count": 15,
   "id": "cc12427c",
   "metadata": {},
   "outputs": [
    {
     "name": "stdout",
     "output_type": "stream",
     "text": [
      "Hello!James,India\n"
     ]
    }
   ],
   "source": [
    "#Q7. Write a python script to remove all non int values from a list\n",
    "\n",
    "\n",
    "import re\n",
    "\n",
    "\n",
    "string1 = \"Hello!James12,India2020\"\n",
    "\n",
    "pattern = r'[0-9]'\n",
    "\n",
    "\n",
    "new_string = re.sub(pattern, '', string1)\n",
    "\n",
    "print(new_string)"
   ]
  },
  {
   "cell_type": "code",
   "execution_count": 22,
   "id": "66104067",
   "metadata": {},
   "outputs": [
    {
     "name": "stdout",
     "output_type": "stream",
     "text": [
      "{1: 1}\n",
      "{1: 2, 3: 1}\n",
      "{1: 2, 3: 1, 2: 1}\n",
      "{1: 2, 3: 1, 2: 1, 6: 1}\n",
      "{1: 2, 3: 1, 2: 1, 6: 1, 5: 1}\n",
      "{1: 4, 3: 4, 2: 1, 6: 1, 5: 1, 4: 1}\n"
     ]
    }
   ],
   "source": [
    "#Q8.Write a python script to print distinct element along with their frequencies of occirrence in the list\n",
    "\n",
    "\n",
    "def CountFreq(li):\n",
    "    freq = {}\n",
    "    for item in li:\n",
    "        if (item in freq):\n",
    "            freq[item] += 1\n",
    "        else:\n",
    "            freq[item] = 1 \n",
    "            print  (freq) \n",
    "li =[1, 1, 3, 2, 6, 5, 3, 1, 3, 3, 1, 4, 6, 4, 4, 2, 2, 2, 2]\n",
    "CountFreq(li)"
   ]
  },
  {
   "cell_type": "code",
   "execution_count": 27,
   "id": "7540b553",
   "metadata": {},
   "outputs": [
    {
     "name": "stdout",
     "output_type": "stream",
     "text": [
      "[6, 9, 13, 17, 25]\n"
     ]
    }
   ],
   "source": [
    "#Q9.Write a python script to sort a list\n",
    "\n",
    "\n",
    "nums = [25,13,6,17,9]\n",
    "nums.sort()\n",
    "print(nums)\n",
    "\n"
   ]
  },
  {
   "cell_type": "code",
   "execution_count": null,
   "id": "34aff5cc",
   "metadata": {},
   "outputs": [],
   "source": []
  }
 ],
 "metadata": {
  "kernelspec": {
   "display_name": "Python 3 (ipykernel)",
   "language": "python",
   "name": "python3"
  },
  "language_info": {
   "codemirror_mode": {
    "name": "ipython",
    "version": 3
   },
   "file_extension": ".py",
   "mimetype": "text/x-python",
   "name": "python",
   "nbconvert_exporter": "python",
   "pygments_lexer": "ipython3",
   "version": "3.9.12"
  }
 },
 "nbformat": 4,
 "nbformat_minor": 5
}
