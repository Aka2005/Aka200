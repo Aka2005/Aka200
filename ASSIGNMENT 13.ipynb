{
 "cells": [
  {
   "cell_type": "code",
   "execution_count": 2,
   "id": "05390828",
   "metadata": {},
   "outputs": [
    {
     "name": "stdout",
     "output_type": "stream",
     "text": [
      "[10, 20, 30, 50]\n"
     ]
    },
    {
     "data": {
      "text/plain": [
       "list"
      ]
     },
     "execution_count": 2,
     "metadata": {},
     "output_type": "execute_result"
    }
   ],
   "source": [
    "#Q1. Write a python script to get the data type of a list\n",
    "\n",
    "l1 = [10,20,30,50]\n",
    "\n",
    "print(l1)\n",
    "type(l1)"
   ]
  },
  {
   "cell_type": "code",
   "execution_count": 4,
   "id": "0a028b4d",
   "metadata": {},
   "outputs": [
    {
     "name": "stdout",
     "output_type": "stream",
     "text": [
      "Enter a number\n",
      "Java\n",
      "Python\n",
      "SQL\n",
      "C\n"
     ]
    }
   ],
   "source": [
    "#Q2. Write a python script to store multiple item in a single varaible ('Java', 'Python', 'SQL', 'C')\n",
    "\n",
    "\n",
    "print(\"Enter a number\")\n",
    "a, b, c, d = 'Java', 'Python', 'SQL', 'C'\n",
    "print(a)\n",
    "print(b)\n",
    "print(c)\n",
    "print(d)"
   ]
  },
  {
   "cell_type": "code",
   "execution_count": 6,
   "id": "d65cbf4e",
   "metadata": {},
   "outputs": [
    {
     "name": "stdout",
     "output_type": "stream",
     "text": [
      "python\n"
     ]
    }
   ],
   "source": [
    "#Q3.Write a python script to get the last item of the list item of list(mylist=[\"java\",\"c\",\"python\"])\n",
    "\n",
    "l2 = [\"java\",\"c\",\"python\"]\n",
    "\n",
    "print(l2[2])"
   ]
  },
  {
   "cell_type": "code",
   "execution_count": 10,
   "id": "79b36bb8",
   "metadata": {},
   "outputs": [
    {
     "name": "stdout",
     "output_type": "stream",
     "text": [
      "['Java', 'NoSQL', 'C', 'Flutter', 'Javascript', 'Python']\n"
     ]
    }
   ],
   "source": [
    "#Q4.Write a python script to change the value \"SQL\"and \"Reactnative\" with the value \"NoSQL\" and \"Flutter\"\n",
    "\n",
    "l3 =  [\"Java\",\"SQL\",\"C\",\"Reactnative\", \"Javascript\",\"Python\"]\n",
    "\n",
    "l3[1] = \"NoSQL\"\n",
    "l3[3] = \"Flutter\"\n",
    "\n",
    "print(l3)"
   ]
  },
  {
   "cell_type": "code",
   "execution_count": 16,
   "id": "5f5cb5c6",
   "metadata": {},
   "outputs": [
    {
     "name": "stdout",
     "output_type": "stream",
     "text": [
      "['Java', 'SQL', 'C', 'Reactnative', 'Python']\n"
     ]
    }
   ],
   "source": [
    "#Q5. Write a python script to add an item to the end  of the list(item \"Python\")(mylist= ) [\"Java\",\"SQL\",\"C\",\"Reactnative\"]\n",
    "\n",
    "\n",
    "l4 = [\"Java\",\"SQL\",\"C\",\"Reactnative\"]\n",
    "\n",
    "l4.append('Python')\n",
    "\n",
    "print(l4) "
   ]
  },
  {
   "cell_type": "code",
   "execution_count": 17,
   "id": "94e81944",
   "metadata": {},
   "outputs": [
    {
     "name": "stdout",
     "output_type": "stream",
     "text": [
      "['Java', 'Python', 'SQL', ['C', 'Cpp', 'NoSQL']]\n"
     ]
    }
   ],
   "source": [
    "#Q6.Write a python programme to append element from another list to the current list.(firstlist = [\"Java\",\"Python\",\"SQL\"]secondlist=[\"C\",\"Cpp\",\"NoSQL\"]\n",
    "\n",
    "l5 = [\"Java\",\"Python\",\"SQL\"]\n",
    "l6 = [\"C\",\"Cpp\",\"NoSQL\"]\n",
    "\n",
    "l5.append(l6)\n",
    "\n",
    "print(l5)"
   ]
  },
  {
   "cell_type": "code",
   "execution_count": 20,
   "id": "20235099",
   "metadata": {},
   "outputs": [
    {
     "name": "stdout",
     "output_type": "stream",
     "text": [
      "['Mumbai', 'Ajmer', 'Punjab', 'Jaipur', 'Delhi']\n",
      "[300, 700, 120, 1300, 950]\n"
     ]
    }
   ],
   "source": [
    "#Q7.Write a python to create a list of city names takenfrom the user\n",
    "\n",
    "City = ['Mumbai', 'Ajmer', 'Punjab', 'Jaipur', 'Delhi']\n",
    "prices = [300, 700, 120, 1300, 950]\n",
    "\n",
    "print(City)\n",
    "print(prices)\n",
    "\n"
   ]
  },
  {
   "cell_type": "code",
   "execution_count": 21,
   "id": "e09febdf",
   "metadata": {},
   "outputs": [
    {
     "name": "stdout",
     "output_type": "stream",
     "text": [
      "Enter number of elements : 5\n",
      "12\n",
      "13\n",
      "23\n",
      "45\n",
      "6\n",
      "[12, 13, 23, 45, 6]\n"
     ]
    }
   ],
   "source": [
    "#Q8 . Write a python script to crate script list where each element of thr list is a digit of a given number\n",
    "\n",
    "\n",
    "\n",
    "lst = []\n",
    "  \n",
    "\n",
    "n = int(input(\"Enter number of elements : \"))\n",
    "  \n",
    "\n",
    "for i in range(0, n):\n",
    "    ele = int(input())\n",
    "  \n",
    "    lst.append(ele) \n",
    "      \n",
    "print(lst)"
   ]
  },
  {
   "cell_type": "code",
   "execution_count": null,
   "id": "f52416fd",
   "metadata": {},
   "outputs": [],
   "source": []
  }
 ],
 "metadata": {
  "kernelspec": {
   "display_name": "Python 3 (ipykernel)",
   "language": "python",
   "name": "python3"
  },
  "language_info": {
   "codemirror_mode": {
    "name": "ipython",
    "version": 3
   },
   "file_extension": ".py",
   "mimetype": "text/x-python",
   "name": "python",
   "nbconvert_exporter": "python",
   "pygments_lexer": "ipython3",
   "version": "3.9.12"
  }
 },
 "nbformat": 4,
 "nbformat_minor": 5
}
